{
 "cells": [
  {
   "cell_type": "markdown",
   "metadata": {
    "colab_type": "text",
    "id": "_0Ga0Ndxe4J7"
   },
   "source": [
    "# \"Thy algorithm shalt not bear false witness\": An Evaluation of Multiclass Debiasing Methods on Word Embeddings\n",
    "\n",
    "\n",
    "This is the code to support the paper \"\"Thy algorithm shalt not bear false witness\": An Evaluation of Multiclass Debiasing Methods on Word Embeddings\"\n",
    " It shows, which experiments and debiasing techniques are applied to word embedding word2vec.\n",
    "The approaches are namely: \n",
    "\n",
    "Debiasing approaches: \n",
    "*   Conceptor Debiasing\n",
    "*   Hard Debiasing\n",
    "*   softWEAT\n",
    "\n",
    "Evaluation Metrics: \n",
    "*   Relative Negative Sentiment Bias(RNSB) Metric\n",
    "*   Mean Average Cosine Similarity (MAC) Metric\n",
    "*   Word Association Evaluation Test (WEAT) effect size Metric\n",
    "\n",
    "This Notebook refers to the W2V embeddings."
   ]
  },
  {
   "cell_type": "code",
   "execution_count": 1,
   "metadata": {
    "colab": {},
    "colab_type": "code",
    "id": "r7HibcAUe4J8"
   },
   "outputs": [],
   "source": [
    "#Import needed Packages\n",
    "from gensim.models import KeyedVectors\n",
    "import numpy as np\n",
    "import re\n",
    "from sklearn.linear_model import LogisticRegression\n",
    "from sklearn.model_selection import train_test_split\n",
    "from sklearn import metrics\n",
    "from sklearn.decomposition import PCA\n",
    "from scipy.spatial.distance import cosine\n",
    "import torch\n",
    "import matplotlib.pyplot as plt\n",
    "from scipy.linalg import null_space as ns\n",
    "from statistics import mean\n",
    "from scipy.linalg import norm\n",
    "from scipy import stats\n",
    "import warnings\n",
    "from itertools import combinations\n",
    "import seaborn as sns;\n",
    "import pandas as pd\n",
    "import matplotlib.pyplot as plt\n"
   ]
  },
  {
   "cell_type": "markdown",
   "metadata": {
    "colab_type": "text",
    "id": "xI38K6M7e4KL"
   },
   "source": [
    "# Loading Word2Vec\n",
    "The \"pre-trained vectors trained on part of Google News dataset (about 100 billion words). The model contains 300-dimensional vectors for 3 million words and phrases.\" (https://code.google.com/archive/p/word2vec/)"
   ]
  },
  {
   "cell_type": "code",
   "execution_count": 2,
   "metadata": {
    "colab": {},
    "colab_type": "code",
    "id": "6stczDfRe4KL"
   },
   "outputs": [],
   "source": [
    "#for work in juypter notebooks\n",
    "model = KeyedVectors.load_word2vec_format(\"GoogleNews-vectors//GoogleNews-vectors-negative300.bin\", binary=True)\n"
   ]
  },
  {
   "cell_type": "markdown",
   "metadata": {},
   "source": [
    "# Data\n",
    "\n",
    "Below the data for the debaising and evaluation methods are defined. "
   ]
  },
  {
   "cell_type": "markdown",
   "metadata": {},
   "source": [
    "The sets of words concerning a particular attribute class are taken from Popovic, Lemmerich and Strohmaier (2020)."
   ]
  },
  {
   "cell_type": "code",
   "execution_count": 3,
   "metadata": {
    "colab": {},
    "colab_type": "code",
    "id": "377FxSuFkkr5"
   },
   "outputs": [],
   "source": [
    "sets = {'pleasant': ['caress', 'freedom', 'health', 'love', 'peace', 'cheer', 'friend', 'heaven', 'loyal', 'pleasure', 'diamond', 'gentle', 'honest', 'lucky', 'rainbow', 'diploma', 'gift', 'honor', 'miracle', 'sunrise', 'family', 'happy', 'laughter', 'paradise', 'vacation', 'joy', 'wonderful'],\n",
    "        'unpleasant': ['abuse', 'crash', 'filth', 'murder', 'sickness', 'accident', 'death', 'grief', 'poison', 'stink', 'assault', 'disaster', 'hatred', 'pollute', 'tragedy', 'divorce', 'jail', 'poverty', 'ugly', 'cancer', 'kill', 'rotten', 'vomit', 'agony', 'prison', 'terrible', 'horrible'],\n",
    "        'instruments': ['bagpipe', 'cello', 'guitar', 'lute', 'trombone', 'banjo', 'clarinet', 'harmonica', 'mandolin', 'trumpet', 'bassoon', 'drum', 'harp', 'oboe', 'tuba', 'bell', 'fiddle', 'harpsichord', 'piano', 'viola', 'bongo', 'flute', 'horn', 'saxophone'],\n",
    "        'weapons': ['arrow', 'club', 'gun', 'missile', 'spear', 'dagger', 'harpoon', 'pistol', 'sword', 'blade', 'dynamite', 'hatchet', 'rifle', 'tank', 'bomb', 'firearm', 'knife', 'shotgun', 'teargas', 'cannon', 'grenade', 'mace', 'slingshot', 'whip'],\n",
    "        'career': ['executive', 'management', 'professional', 'corporation', 'salary', 'office', 'business', 'career'],\n",
    "        'family': ['home', 'parents', 'children', 'family', 'cousins', 'marriage', 'wedding', 'relatives'],\n",
    "        'science': ['science', 'technology', 'physics', 'chemistry', 'einstein', 'nasa', 'experiment', 'astronomy'],\n",
    "        'art': ['poetry', 'art', 'dance', 'literature', 'novel', 'symphony', 'drama', 'sculpture'], \n",
    "        'intellectual_words': ['resourceful', 'inquisitive', 'sagacious', 'inventive', 'adaptable', 'intuitive', 'analytical', 'imaginative', 'shrewd', 'thoughtful', 'smart', 'clever', 'brilliant', 'logical', 'intelligent', 'apt', 'genius', 'wise', 'stupid', 'dumb', 'dull', 'clumsy', 'foolish', 'naive', 'unintelligent'],\n",
    "        'appearance_words': ['alluring', 'voluptuous', 'blushing', 'homely', 'plump', 'sensual', 'gorgeous', 'slim', 'bald', 'athletic', 'fashionable', 'stout', 'ugly', 'muscular', 'slender', 'feeble', 'handsome', 'healthy', 'attractive', 'fat', 'weak', 'thin', 'pretty', 'beautiful', 'strong'], \n",
    "        'shy': ['soft', 'quiet', 'compromising', 'rational', 'calm', 'kind', 'agreeable', 'servile', 'pleasant', 'cautious', 'friendly', 'supportive', 'nice', 'mild', 'demure', 'passive', 'indifferent'],\n",
    "        'aggressive': ['shrill', 'loud', 'argumentative', 'irrational', 'angry', 'abusive', 'obnoxious', 'controlling', 'nagging', 'brash', 'hostile', 'mean', 'harsh', 'sassy', 'aggressive', 'opinionated', 'domineering'],\n",
    "        'competent': ['competent', 'productive', 'effective', 'ambitious', 'active', 'decisive', 'strong', 'tough'], 'incompetent': ['incompetent', 'unproductive', 'ineffective', 'passive', 'indecisive', 'weak', 'gentle', 'timid'],\n",
    "        'likeable': ['agreeable', 'fair', 'honest', 'trustworthy', 'selfless', 'accommodating'],\n",
    "        'unlikeable': ['abrasive', 'conniving', 'manipulative', 'dishonest', 'selfish', 'pushy']}"
   ]
  },
  {
   "cell_type": "code",
   "execution_count": 4,
   "metadata": {},
   "outputs": [],
   "source": [
    "attributes = sets.copy()"
   ]
  },
  {
   "cell_type": "markdown",
   "metadata": {},
   "source": [
    "In order to establish a common base of identity terminology of groups used to debias the word embedding, an equality set of words is built. The choice for equality sets stems from the fact that hard debiasing requires equality sets to debias. With the use of the same equality set in each method, a more meaningful comparison can be made. \n",
    "\n",
    "The equality set was built by hand, with some notions taken from Manzini, Lim, Tsvetkov and Black (2019) equality sets."
   ]
  },
  {
   "cell_type": "code",
   "execution_count": 5,
   "metadata": {},
   "outputs": [],
   "source": [
    "sets['judaism_words'] = ['judaism', 'jew','jews','synagogue','synagogues', 'torah', 'rabbi', 'rabbis', \n",
    "                         'abraham', 'star', 'shabbat']\n",
    "sets['christianity_words'] = ['christianity','christian','christians','church','churches','bible','priest','priests',\n",
    "                             'jesus','cross','easter']\n",
    "sets['islam_words'] = ['islam','muslim','muslims','mosque','mosques','quran','imam','imams','muhammad',\n",
    "                        'hilal','ramadan']"
   ]
  },
  {
   "cell_type": "code",
   "execution_count": 6,
   "metadata": {},
   "outputs": [],
   "source": [
    "equality_sets = [\n",
    "        [\"judaism\", \"christianity\", \"islam\"],\n",
    "        [\"jew\", \"christian\", \"muslim\"],\n",
    "        [\"jews\", \"christians\", \"muslims\"],\n",
    "        [\"synagogue\", \"church\", \"mosque\"],\n",
    "        [\"synagogues\", \"churches\", \"mosques\"],\n",
    "        [\"torah\", \"bible\", \"quran\"],\n",
    "        [\"rabbi\", \"priest\", \"imam\"],\n",
    "        [\"rabbis\", \"priests\", \"imams\"],\n",
    "        [\"abraham\", \"jesus\", \"muhammad\"],\n",
    "        [\"star\", \"cross\", \"hilal\"],\n",
    "        [\"shabbat\", \"easter\", \"ramadan\"],\n",
    "    \n",
    "]"
   ]
  },
  {
   "cell_type": "code",
   "execution_count": 7,
   "metadata": {},
   "outputs": [],
   "source": [
    "#for testing of MAC for Religion specific average cosine  distance to attribute sets. This was done for the analysis of the \n",
    "#poor performance of hard debiasing within MAC \n",
    "mequality_sets = [\n",
    "    ['judaism', 'jew','jews','synagogue','synagogues', 'torah', 'rabbi', 'rabbis', \n",
    "                         'abraham', 'star', 'shabbat'],\n",
    "    ['christianity','christian','christians','church','churches','bible','priest','priests',\n",
    "                             'jesus','cross','easter'],\n",
    "    ['islam','muslim','muslims','mosque','mosques','quran','imam','imams','muhammad',\n",
    "                        'hilal','ramadan']\n",
    "    \n",
    "]"
   ]
  },
  {
   "cell_type": "markdown",
   "metadata": {
    "colab_type": "text",
    "id": "j5YuqPqTe4KO"
   },
   "source": [
    "# Bias Evaluations"
   ]
  },
  {
   "cell_type": "code",
   "execution_count": 8,
   "metadata": {
    "colab": {},
    "colab_type": "code",
    "id": "sYxib3nOyfF1"
   },
   "outputs": [],
   "source": [
    "Results = {}"
   ]
  },
  {
   "cell_type": "markdown",
   "metadata": {
    "colab_type": "text",
    "id": "CBslGgawe4KP"
   },
   "source": [
    "## Relative Negative Sentiment Bias (RNSB)\n",
    "The first evaluation method will be the RNSB metric. It imitates the results, which would be given to a downstream application.\n",
    "The relative negative sentiment bias is an approach proposed by Sweeney and Najafan (2019) in order to offer insights on the effect of biased word embeddings through downstream applications. Its framework involves training a logistic classifier to predict the positive or negative sentiment of a given word. The classifier is trained on unbiased sentiment words, which are encoded via the word embedding to be investigated. Sweeney and Najafan then encode demographic identity terms and predict their respective negative sentiment probability. These results are used to form a probability distribution P. The Relative Negative Sentiment Bias (RNSB) is then defined \"as the KL\n",
    "divergence of P from U, where U is the uniform\n",
    "distribution\". \n",
    "\n",
    "The RNSB metric will be calculated for each debiasing method. To  intrepret this metric, Sweeney and Najafian state that \"Our RNSB metric captures the distance, via KL divergence, between the current distribution of negative sentiment and the fair uniform distribution. So the more fair a word embedding model with respect to sentiment bias, the lower the RNSB metric.\"\n",
    "\n",
    "*(Sweeney, C., & Najafian, M. (2019, July). A Transparent Framework for Evaluating Unintended Demographic Bias in Word Embeddings. In Proceedings of the 57th Annual Meeting of the Association for Computational Linguistics (p. 1664).)*"
   ]
  },
  {
   "cell_type": "code",
   "execution_count": 9,
   "metadata": {
    "colab": {},
    "colab_type": "code",
    "id": "F3qWVze3e4KP"
   },
   "outputs": [],
   "source": [
    "def readInReview(reviewName):\n",
    "    firstReview = open(reviewName, \"r\")\n",
    "    review = firstReview.read()\n",
    "    #Each list element is a word or title\n",
    "    reviewList = re.split(r'\\n', review)\n",
    "    #remove introduction to dataset\n",
    "    count = 0\n",
    "    for x in reviewList:\n",
    "        if x.startswith(';'):\n",
    "            count +=1\n",
    "        else:\n",
    "            break\n",
    "    reviewList = reviewList[count:]\n",
    "    return reviewList"
   ]
  },
  {
   "cell_type": "code",
   "execution_count": 10,
   "metadata": {
    "colab": {},
    "colab_type": "code",
    "id": "xALbK-poe4KZ"
   },
   "outputs": [],
   "source": [
    "def create_embeddings(model_Encoding,review):\n",
    "    embedding_matrix = []\n",
    "    for x in review:\n",
    "        if x in model.vocab:\n",
    "            embedding_matrix.append(model_Encoding(x))\n",
    "    embedding_matrix = np.array(embedding_matrix)\n",
    "    return embedding_matrix"
   ]
  },
  {
   "cell_type": "code",
   "execution_count": 11,
   "metadata": {
    "colab": {},
    "colab_type": "code",
    "id": "oFP4t6d5e4Kc"
   },
   "outputs": [],
   "source": [
    "def calculateRNSB(results):\n",
    "    negProbResults = []\n",
    "    negProbSum = 0\n",
    "    for x in results:\n",
    "        negProbResults.append(x[0])\n",
    "        negProbSum += x[0]\n",
    "\n",
    "    normalizedResults = []\n",
    "    for i in range(len(results)): \n",
    "        normalizedResults.append(negProbResults[i]/negProbSum)\n",
    "        \n",
    "    #KL Divergence\n",
    "    RNSB = 0\n",
    "    Q = 1/len(normalizedResults)\n",
    "    for x in normalizedResults:\n",
    "        RNSB += x * np.math.log((x / Q))\n",
    "    return RNSB"
   ]
  },
  {
   "cell_type": "code",
   "execution_count": 12,
   "metadata": {
    "colab": {},
    "colab_type": "code",
    "id": "x-iDCm4ke4Ke"
   },
   "outputs": [],
   "source": [
    "def RNSB_Evaluation(model_Encoding,identity_words,p_val = True):\n",
    "    '''\n",
    "    model_encoding: methodcall to get a word embedding for a word\n",
    "    identity_words: equaluty sets to be tested\n",
    "    p_val: whether a one tailed t test on the distribution of the values should be performed\n",
    "    returns: RNSB score, p value and average RNSB scores for each equality set\n",
    "    \n",
    "    '''\n",
    "    warnings.filterwarnings(\"ignore\")\n",
    "    #Train logistic classifier on unbiased positive /negative sentiment words\n",
    "    reviewNeg = readInReview(\"opinion-lexicon-English\\\\negative-words.txt\")\n",
    "    neg = create_embeddings(model_Encoding,reviewNeg)\n",
    "    targetN = np.zeros(np.size(neg,0))\n",
    "    reviewPos = readInReview(\"opinion-lexicon-English\\\\positive-words.txt\")\n",
    "    pos = create_embeddings(model_Encoding,reviewPos)\n",
    "    targetP = np.ones(np.size(pos,0))\n",
    "    embed = np.concatenate((pos,neg))\n",
    "    target = np.concatenate((targetP,targetN))\n",
    "    \n",
    "    #Train, (Validation) and Test set \n",
    "    rnsb_values = []\n",
    "    stats = np.zeros(len(identity_words))\n",
    "    islam_val, christ_val, juda_val = [], [],[]\n",
    "    # for 20 runs\n",
    "    for n in range (0, 20):\n",
    "        itrain, itest = train_test_split(range(embed.shape[0]), test_size=0.2)\n",
    "\n",
    "        X_train = embed[itrain, :]\n",
    "        X_test = embed[itest, :]\n",
    "        y_train = target[itrain]\n",
    "        y_test = target[itest]\n",
    "\n",
    "\n",
    "        logisticReg = LogisticRegression()\n",
    "        logisticReg.fit(X_train,y_train)\n",
    "        logpredy = logisticReg.predict(X_test)\n",
    "        \n",
    "        #print(\"Accuracy:\",metrics.accuracy_score(y_test, logpredy))\n",
    "        #print(\"Recall:\", metrics.recall_score(y_test, logpredy))\n",
    "        #print(\"Precision:\", metrics.precision_score(y_test, logpredy))\n",
    "        #print(\"F1: \", metrics.f1_score(y_test, logpredy))\n",
    "        \n",
    "        RNSB = []\n",
    "        juda, christ, islam = [],[],[]\n",
    "        for iset in identity_words: \n",
    "            identity_embed= []\n",
    "            for i in iset:\n",
    "                if not model_Encoding(i) == 'None':\n",
    "                    identity_embed.append(model_Encoding(i))\n",
    "            identity_pred = logisticReg.predict_proba(identity_embed)\n",
    "            juda.append(identity_pred[0][0])\n",
    "            christ.append(identity_pred[1][0])\n",
    "            islam.append(identity_pred[2][0]) \n",
    "            temp = calculateRNSB(identity_pred)\n",
    "            RNSB.append(temp)\n",
    "                \n",
    "        juda_val.append(mean(juda))\n",
    "        christ_val.append(mean(christ))\n",
    "        islam_val.append(mean(islam)) \n",
    "        RNSB = np.array(RNSB)\n",
    "        rnsb_values.append(np.mean(RNSB))\n",
    "        stats = np.add(stats,RNSB)\n",
    "    j = mean(juda_val)\n",
    "    c = mean(christ_val)\n",
    "    i = mean(islam_val)\n",
    "    #averafe relative negative sentiment for each religion over various equality sets\n",
    "    print ('judaism ', j, 'christ', c, ' islam', i)\n",
    "    stats = np.divide(stats,20)\n",
    "    if p_val:\n",
    "        _,RNSBnonDB_target_eval,_ = RNSB_Evaluation(encode_nondebias,equality_sets,p_val = False)\n",
    "        p_val = ttest_p(RNSBnonDB_target_eval, stats)\n",
    "    else:\n",
    "        p_val = 0\n",
    "\n",
    "    score = mean(rnsb_values)\n",
    "    print('average over 20 ', score, stats)\n",
    "    return score, stats, p_val"
   ]
  },
  {
   "cell_type": "markdown",
   "metadata": {
    "colab_type": "text",
    "id": "GniwlqaTe4Ki"
   },
   "source": [
    "## Mean Average Cosine Similarity (MAC)\n",
    "The second evalutation method is the Mean Average Cosine Similarity (MAC) as proposed by Manzini et al. The method originates from the notion of the WEAT test implemented below, but allows for quantification of multiclass bias.\n",
    "\n",
    "The approach uses Target sets T, which are identity terms for a protected group, and thus inherently carry some bias, and attribute sets A containing terms that should not be linked to the target sets above (pleasent, unpleasent). The MAC metric is acquired by calculating the mean over the cosine distances between each element in a particular set T to each element in a particular set A. This is repeated for each set T with respect to each set A. The MAC is then the average result over all sets.\n",
    "\n",
    "The cosine distance ranges from 0 to 2, 0 indicating that the vectors are the same and 2 indicating that the vectors have maximum cosine distance. Thus, to interpret the MAC metric, one should ideally expect a MAC value of close to 1. This would indicate that the target sets are as close to an attribute set, as they are distant from it.\n",
    "\n",
    "*(Manzini, T., Lim, Y. C., Tsvetkov, Y., & Black, A. W. (2019). Black is to criminal as caucasian is to police: Detecting and removing multiclass bias in word embeddings. arXiv preprint arXiv:1904.04047.)*"
   ]
  },
  {
   "cell_type": "code",
   "execution_count": 13,
   "metadata": {
    "colab": {},
    "colab_type": "code",
    "id": "o_y_6HETe4Kr"
   },
   "outputs": [],
   "source": [
    "def multiclass_evaluation(word_encoding, calculate_p_val = True):\n",
    "    '''\n",
    "    word_encoding : methodcall to get a word embedding for a word\n",
    "    calculate_p_val : whether a p value for the one tailed t test should be caluclated \n",
    "    returns MAC score, p value, individual MAC scores for each equality sets\n",
    "    '''\n",
    "    targets_eval = []\n",
    "    \n",
    "    for targetSet in equality_sets:\n",
    "        inestigatTemp = []\n",
    "        for target in targetSet:\n",
    "            if word_encoding(target) != 'None':\n",
    "                for attributeSet in attributes:\n",
    "                    res = 0\n",
    "                    count = 0\n",
    "                    for a in attributeSet: \n",
    "                        if word_encoding(a)!= 'None':\n",
    "                            t_embed = word_encoding(target)\n",
    "                            a_embed = word_encoding(a)\n",
    "                            #print(t_embed.dtype, a_embed.dtype)\n",
    "                            temp = cosine(t_embed,a_embed)\n",
    "                            res+= temp\n",
    "                            count += 1\n",
    "                            #print(f'{target} and {a} : {temp}')\n",
    "                    #print(target, attributeSet,(res/count) )\n",
    "                    targets_eval.append((res/count))\n",
    "                    inestigatTemp.append((res/count))\n",
    "        print(targetSet, ':', np.mean(inestigatTemp))\n",
    "    if calculate_p_val: \n",
    "        _,_,nonDB_target_eval = multiclass_evaluation(encode_nondebias, False)\n",
    "        p_val = ttest_p(nonDB_target_eval,targets_eval)\n",
    "    else: \n",
    "        p_val = 0\n",
    "    print('score:', np.sum(targets_eval)/(len(targets_eval)))\n",
    "    m_score = np.mean(targets_eval)\n",
    "    return m_score, p_val, targets_eval"
   ]
  },
  {
   "cell_type": "code",
   "execution_count": 14,
   "metadata": {},
   "outputs": [],
   "source": [
    "def ttest_p(nonDB_target_eval, target_eval):\n",
    "    '''\n",
    "    nonDB_target_eval: first distribution\n",
    "    target_eval: second distribution\n",
    "    returns p value of a one taile dt test between the two distributions\n",
    "    '''\n",
    "    diff = []\n",
    "    #differences between non debias and this method\n",
    "    for i in range(len(target_eval)):\n",
    "        diff.append(target_eval[i]- nonDB_target_eval[i])    \n",
    "    diff = np.array(diff)\n",
    "    std = np.std(diff)\n",
    "    mean = np.mean(diff)\n",
    "    st_error = std/(np.sqrt(len(diff)))\n",
    "    test_stat = mean/st_error\n",
    "    p_val = stats.t.sf(np.absolute(test_stat),df=len(diff)-1)\n",
    "    print('test stat', test_stat)\n",
    "    print('p ', p_val )\n",
    "    return p_val"
   ]
  },
  {
   "cell_type": "markdown",
   "metadata": {
    "colab_type": "text",
    "id": "2_GncRJQkaJB"
   },
   "source": [
    "## Word Evaluation Association Test (WEAT) Effect Size\n",
    "The WEAT also utilizes target and attribute sets as defined above. The WEAT considers two target and two attribute sets simultaeneously. It tests the association between one target and attribute set, relative to the association of the other target and attribute set. \"null hypothesis is that there is no difference between the two sets of target\n",
    "words in terms of their relative similarity to the two sets of attribute words\"\n",
    "\n",
    "\n",
    "To perform the WEAT test, the mean cosine similarity of an element in target set T1 to all elements in attribute set A2 is subtracted from the mean cosine similarity to all elements in attribute set A1. The sum of this is taken for all elements of T1. From this the sum for all elements in T2 is subtracted. This value is defined as the test statistic. \n",
    "\n",
    "To obtain the effect size, which is \"a normalized measure of how separated the two distributions (of associations between the target and attribute) are\" (Caliskan et al, 2017), the mean of the mean cosine similarity of each target of a target set T1 to each attribute set is taken. From this the mean of the mean cosine similarity of each target of a target set T2 to each attribute set is subtracted. To normalize this, this value is devided by the standard deviation over the mean cosine distance of each target in T1 and T2 to attribute set A1 minus that to attribute set A2. \n",
    "\n",
    "The loewer the effect size d is, i.e. the closer to zero, the less bias can be recorded between the target and attribute sets.\n",
    "\n",
    "\n",
    "*(Caliskan, A., Bryson, J. J., & Narayanan, A. (2017). Semantics derived automatically from language corpora contain human-like biases. Science, 356(6334), 183-186.)*"
   ]
  },
  {
   "cell_type": "markdown",
   "metadata": {},
   "source": [
    "The 'religion' dictionary defines logical combinations for attribute sets. Each of these is defined for each combination of target sets. (Sets againare taken from Popovic et al.'s work (2020))"
   ]
  },
  {
   "cell_type": "code",
   "execution_count": 15,
   "metadata": {
    "colab": {},
    "colab_type": "code",
    "id": "ZvwnaY68kkr1"
   },
   "outputs": [],
   "source": [
    "religion ={('islam_words', 'judaism_words'): [('likeable', 'unlikeable'), ('competent', 'incompetent'), \n",
    "                                                 ('shy', 'aggressive'), ('intellectual_words', 'appearance_words'),\n",
    "                                                 ('family', 'career'), ('instruments', 'weapons'), \n",
    "                                                 ('pleasant', 'unpleasant'), ('science', 'art')], \n",
    "           \n",
    "              ('islam_words', 'christianity_words'): [('likeable', 'unlikeable'), ('competent', 'incompetent'),\n",
    "                                                      ('shy', 'aggressive'), ('intellectual_words', 'appearance_words'),\n",
    "                                                      ('family', 'career'), ('instruments', 'weapons'), \n",
    "                                                      ('pleasant', 'unpleasant'), ('science', 'art')], \n",
    "           \n",
    "              ('judaism_words', 'christianity_words'): [('likeable', 'unlikeable'), ('competent', 'incompetent'), \n",
    "                                                        ('shy', 'aggressive'), ('intellectual_words', 'appearance_words'),\n",
    "                                                        ('family', 'career'), ('instruments', 'weapons'), \n",
    "                                                        ('pleasant', 'unpleasant'), ('science', 'art')]\n",
    "          }"
   ]
  },
  {
   "cell_type": "code",
   "execution_count": 16,
   "metadata": {
    "colab": {},
    "colab_type": "code",
    "id": "I5pUgy4fkksK"
   },
   "outputs": [],
   "source": [
    "def WEAT_Effect_size(x,y,a,b):\n",
    "        numerator = np.mean([h(w,a,b) for w in x]) - np.mean([h(w,a,b) for w in y])\n",
    "        denominator = np.std([h(w,a,b) for w in x + y])\n",
    "        return numerator/denominator"
   ]
  },
  {
   "cell_type": "code",
   "execution_count": 17,
   "metadata": {},
   "outputs": [],
   "source": [
    "def WEAT_p_val(X,Y,A,B):\n",
    "    '''\n",
    "    p value: probability that the statistic is of the value by chance\n",
    "    '''\n",
    "    stat = np.sum([h(w,A,B) for w in X]) -  np.sum([h(w,A,B) for w in Y])\n",
    "    print('stat', stat)\n",
    "    count = 0\n",
    "    higher = 0\n",
    "    #create all possible combinations\n",
    "    Z = X+Y\n",
    "    print(len(Z), len(list(combinations(range(len(Z)),len(Z)//2))))\n",
    "    combos = []\n",
    "    for combo in combinations(range(len(Z)), len(Z)//2):\n",
    "        combos.append(combo)\n",
    "        x = [Z[i] for i in combo]\n",
    "        y = []\n",
    "        for i in range(len(Z)):\n",
    "            if i not in combo:\n",
    "                y.append(Z[i])\n",
    "        if(x not in combos and y not in combos):\n",
    "            # calculate test statistic\n",
    "            stat_temp = np.sum([h(w,A,B) for w in x]) -  np.sum([h(w,A,B) for w in y])\n",
    "            count += 1\n",
    "            if stat_temp > stat:\n",
    "                higher += 1\n",
    "        #print(count)\n",
    "    p_val = higher/count \n",
    "    print('p_val', p_val)\n",
    "    return p_val"
   ]
  },
  {
   "cell_type": "code",
   "execution_count": 18,
   "metadata": {
    "colab": {},
    "colab_type": "code",
    "id": "jq04-YFckksM"
   },
   "outputs": [],
   "source": [
    "def h(w,A,B):\n",
    "    meanA = np.mean([cosine(w,a) for a in A])\n",
    "    meanB = np.mean([cosine(w,b) for b in B])\n",
    "    return (meanA - meanB)"
   ]
  },
  {
   "cell_type": "code",
   "execution_count": 19,
   "metadata": {
    "colab": {},
    "colab_type": "code",
    "id": "E-JAYEnbkksO"
   },
   "outputs": [],
   "source": [
    "def WEAT_Average_Effect_size(embedding_meth, biasToBeTested, p = False):\n",
    "    '''\n",
    "    embedding_meth: method call to get the word vector of a word\n",
    "    biasToBeTested: attribute target set combinations (dict) \n",
    "    returns effect size d\n",
    "    '''\n",
    "    count = 0\n",
    "    d_values = []\n",
    "    p_values = []\n",
    "    for category_target_pair in biasToBeTested:\n",
    "        cat_0 = [embedding_meth(c) for c in sets[category_target_pair[0]]]\n",
    "        cat_1 = [embedding_meth(c) for c in sets[category_target_pair[1]]]\n",
    "        for attribute_pair in biasToBeTested[category_target_pair]:\n",
    "            att_0 = [embedding_meth(a) for a in sets[attribute_pair[0]]]\n",
    "            att_1 = [embedding_meth(a) for a in sets[attribute_pair[1]]]\n",
    "            if p : \n",
    "                p_values.append(WEAT_p_val(cat_0,cat_1,att_0,att_1))\n",
    "            d = WEAT_Effect_size(cat_0, cat_1, att_0, att_1)\n",
    "            d_values.append(abs(d))          \n",
    "    print(d_values) \n",
    "    return np.mean(d_values)"
   ]
  },
  {
   "cell_type": "markdown",
   "metadata": {
    "colab_type": "text",
    "id": "e7pP0Wfxe4K1"
   },
   "source": [
    "# Non-Debiased Word Embedding Evaluation\n",
    "\n",
    "This is the word2vec model prior to any debiasing. It should perform the worst."
   ]
  },
  {
   "cell_type": "code",
   "execution_count": 20,
   "metadata": {
    "colab": {},
    "colab_type": "code",
    "id": "nYBH6Nm2e4K2"
   },
   "outputs": [],
   "source": [
    "def encode_nondebias(word):\n",
    "    if word in model.vocab:\n",
    "        return model.get_vector(word)\n",
    "    return 'None'"
   ]
  },
  {
   "cell_type": "code",
   "execution_count": 21,
   "metadata": {},
   "outputs": [
    {
     "name": "stdout",
     "output_type": "stream",
     "text": [
      "judaism  0.5589326351558177 christ 0.6612342754523184  islam 0.8562495688071126\n",
      "average over 20  0.12823775556463923 [0.00277317 0.05016296 0.00449369 0.01115461 0.0146937  0.55661426\n",
      " 0.19707681 0.05558263 0.03022849 0.11165298 0.376182  ]\n"
     ]
    }
   ],
   "source": [
    "relBias,RNSBnonDB_target_eval,p = RNSB_Evaluation(encode_nondebias,equality_sets, False) "
   ]
  },
  {
   "cell_type": "code",
   "execution_count": 22,
   "metadata": {
    "colab": {
     "base_uri": "https://localhost:8080/",
     "height": 107
    },
    "colab_type": "code",
    "id": "X5M2_CaZe4LG",
    "outputId": "20ab5101-8bf3-4c59-c728-993119c2b4f0"
   },
   "outputs": [
    {
     "name": "stdout",
     "output_type": "stream",
     "text": [
      "['judaism', 'christianity', 'islam'] : 0.7798762041004368\n",
      "['jew', 'christian', 'muslim'] : 0.7779697438448442\n",
      "['jews', 'christians', 'muslims'] : 0.8117313206891456\n",
      "['synagogue', 'church', 'mosque'] : 0.9913475976506388\n",
      "['synagogues', 'churches', 'mosques'] : 0.9812809082575095\n",
      "['torah', 'bible', 'quran'] : 0.8595037080193201\n",
      "['rabbi', 'priest', 'imam'] : 0.9981623588407634\n",
      "['rabbis', 'priests', 'imams'] : 0.9899504226712583\n",
      "['abraham', 'jesus', 'muhammad'] : 0.7449998714863378\n",
      "['star', 'cross', 'hilal'] : 0.9370946496251209\n",
      "['shabbat', 'easter', 'ramadan'] : 0.8314679134777648\n",
      "['judaism', 'christianity', 'islam'] : 0.7798762041004368\n",
      "['jew', 'christian', 'muslim'] : 0.7779697438448442\n",
      "['jews', 'christians', 'muslims'] : 0.8117313206891456\n",
      "['synagogue', 'church', 'mosque'] : 0.9913475976506388\n",
      "['synagogues', 'churches', 'mosques'] : 0.9812809082575095\n",
      "['torah', 'bible', 'quran'] : 0.8595037080193201\n",
      "['rabbi', 'priest', 'imam'] : 0.9981623588407634\n",
      "['rabbis', 'priests', 'imams'] : 0.9899504226712583\n",
      "['abraham', 'jesus', 'muhammad'] : 0.7449998714863378\n",
      "['star', 'cross', 'hilal'] : 0.9370946496251209\n",
      "['shabbat', 'easter', 'ramadan'] : 0.8314679134777648\n",
      "score: 0.8821258816966492\n",
      "test stat nan\n",
      "p  nan\n",
      "score: 0.8821258816966492\n"
     ]
    }
   ],
   "source": [
    "score,p2,t = multiclass_evaluation(encode_nondebias)"
   ]
  },
  {
   "cell_type": "code",
   "execution_count": 23,
   "metadata": {
    "colab": {},
    "colab_type": "code",
    "id": "J08VGmC2yfHB"
   },
   "outputs": [
    {
     "name": "stdout",
     "output_type": "stream",
     "text": [
      "[0.26066891607626996, 0.40838164801997817, 0.005682144845930048, 0.4421097319788695, 0.4786866281807168, 1.2101514554789525, 0.9100249979993442, 0.41257207784203753, 0.28454531118961734, 0.7620611940494734, 0.030062573246757235, 0.2772419557116415, 0.30306180801277566, 0.7599421809029535, 1.0536442159511894, 0.31651217215973515, 0.018352683771000064, 0.2567078594016816, 0.023672850382630804, 0.17404635457394793, 0.15471786708628507, 0.8087072262644193, 0.041342490092856066, 0.07971854132974603]\n"
     ]
    }
   ],
   "source": [
    "Results['Nondebias*'] = [relBias, p, score,p2, WEAT_Average_Effect_size(encode_nondebias, religion)]"
   ]
  },
  {
   "cell_type": "markdown",
   "metadata": {
    "colab_type": "text",
    "id": "czJHIIb6e4LN"
   },
   "source": [
    "## Debiasing via Concept Negator\n",
    "Conceptor Debiasing (Karve, Ungar and Sedoc (2019))"
   ]
  },
  {
   "cell_type": "code",
   "execution_count": 24,
   "metadata": {
    "colab": {},
    "colab_type": "code",
    "id": "Hr4DLrUCe4LO"
   },
   "outputs": [],
   "source": [
    "def findNegatedConceptor(Z, aperture = 10):\n",
    "    '''\n",
    "    Find conceptor to debias with\n",
    "    '''\n",
    "    k = len(Z)\n",
    "    Z_Trans = Z.transpose()\n",
    "    C_1 = (1/k) * np.matmul(Z,Z_Trans)\n",
    "    temp = (aperture**(-2)) * np.identity(300)\n",
    "    C_2 = np.linalg.inv(np.add(C_1, temp))\n",
    "    C = np.matmul(C_1,C_2)\n",
    "    G = np.subtract(np.identity(300),C)\n",
    "    return G"
   ]
  },
  {
   "cell_type": "code",
   "execution_count": 25,
   "metadata": {
    "colab": {},
    "colab_type": "code",
    "id": "-a9Aksmce4LV"
   },
   "outputs": [],
   "source": [
    "def encodeViaConceptorNegator(word):\n",
    "    if word in model.vocab:\n",
    "        word = model.get_vector(word)\n",
    "        word = word / np.linalg.norm(word)\n",
    "        return np.matmul(negConceptor,word) \n",
    "    return 'None'"
   ]
  },
  {
   "cell_type": "code",
   "execution_count": 26,
   "metadata": {
    "colab": {},
    "colab_type": "code",
    "id": "jzeP7w5Ae4La",
    "outputId": "e5de1eaf-1940-4b07-dcb7-afb36da607d0"
   },
   "outputs": [],
   "source": [
    "#Target Words \n",
    "Z = sets['judaism_words']+sets['christianity_words']+sets['islam_words']\n",
    "Z = list(set(Z))\n",
    "Z_embed = []\n",
    "for z in Z:\n",
    "    #print(z)\n",
    "    if z in model.vocab:\n",
    "        Z_embed.append(model.get_vector(z))\n",
    "Z_embed = np.array(Z_embed)\n",
    "Z_embed  = Z_embed.transpose()\n",
    "negConceptor = findNegatedConceptor(Z_embed)"
   ]
  },
  {
   "cell_type": "code",
   "execution_count": 27,
   "metadata": {
    "colab": {
     "base_uri": "https://localhost:8080/",
     "height": 363
    },
    "colab_type": "code",
    "id": "ZNvPCRvTe4Lc",
    "outputId": "414a655f-52ad-48c7-8952-2b362c8bf057"
   },
   "outputs": [
    {
     "name": "stdout",
     "output_type": "stream",
     "text": [
      "judaism  0.6297078201253618 christ 0.63394208964055  islam 0.6085346236678507\n",
      "judaism  0.5764138341963406 christ 0.6742609959123592  islam 0.8587263033808307\n",
      "average over 20  0.11773116501125165 [0.0030145  0.04375814 0.00331389 0.00625541 0.01622483 0.50234391\n",
      " 0.1746793  0.06673468 0.03250383 0.10634404 0.33987031]\n",
      "test stat -2.4076965237993293\n",
      "p  0.018414037101185162\n",
      "average over 20  0.0067377115121234 [0.00098419 0.00788754 0.00417143 0.00062324 0.00100111 0.00631655\n",
      " 0.00380504 0.00231741 0.01060807 0.0181849  0.01821535]\n"
     ]
    }
   ],
   "source": [
    "relBias,_,p = RNSB_Evaluation(encodeViaConceptorNegator,equality_sets)"
   ]
  },
  {
   "cell_type": "code",
   "execution_count": 28,
   "metadata": {
    "colab": {
     "base_uri": "https://localhost:8080/",
     "height": 107
    },
    "colab_type": "code",
    "id": "128bes4ae4Lh",
    "outputId": "36c7f893-0b33-4d90-85ee-44e2eedf5397"
   },
   "outputs": [
    {
     "name": "stdout",
     "output_type": "stream",
     "text": [
      "['judaism', 'christianity', 'islam'] : 0.9900593387721193\n",
      "['jew', 'christian', 'muslim'] : 0.9921138288368686\n",
      "['jews', 'christians', 'muslims'] : 1.0136340693732602\n",
      "['synagogue', 'church', 'mosque'] : 0.999470531876395\n",
      "['synagogues', 'churches', 'mosques'] : 0.9971036075651948\n",
      "['torah', 'bible', 'quran'] : 0.9991911233595253\n",
      "['rabbi', 'priest', 'imam'] : 1.0147167268321569\n",
      "['rabbis', 'priests', 'imams'] : 0.9960338245917869\n",
      "['abraham', 'jesus', 'muhammad'] : 0.9655393370766925\n",
      "['star', 'cross', 'hilal'] : 0.9963705877581445\n",
      "['shabbat', 'easter', 'ramadan'] : 0.9877862741683305\n",
      "['judaism', 'christianity', 'islam'] : 0.7798762041004368\n",
      "['jew', 'christian', 'muslim'] : 0.7779697438448442\n",
      "['jews', 'christians', 'muslims'] : 0.8117313206891456\n",
      "['synagogue', 'church', 'mosque'] : 0.9913475976506388\n",
      "['synagogues', 'churches', 'mosques'] : 0.9812809082575095\n",
      "['torah', 'bible', 'quran'] : 0.8595037080193201\n",
      "['rabbi', 'priest', 'imam'] : 0.9981623588407634\n",
      "['rabbis', 'priests', 'imams'] : 0.9899504226712583\n",
      "['abraham', 'jesus', 'muhammad'] : 0.7449998714863378\n",
      "['star', 'cross', 'hilal'] : 0.9370946496251209\n",
      "['shabbat', 'easter', 'ramadan'] : 0.8314679134777648\n",
      "score: 0.8821258816966492\n",
      "test stat 27.368519799539566\n",
      "p  1.4359195545117307e-103\n",
      "score: 0.9956381136554976\n"
     ]
    }
   ],
   "source": [
    "score,p2,t = multiclass_evaluation(encodeViaConceptorNegator)"
   ]
  },
  {
   "cell_type": "code",
   "execution_count": 29,
   "metadata": {
    "colab": {},
    "colab_type": "code",
    "id": "sgMjECNIyfHn"
   },
   "outputs": [
    {
     "name": "stdout",
     "output_type": "stream",
     "text": [
      "[0.29812402016897077, 0.4563255952120053, 0.0705083078797554, 0.003929635285323497, 0.21810506347895486, 0.4834117625812987, 0.07644292033070908, 0.011928756117349483, 0.33797939753890416, 0.02897332034258196, 0.12636178173207893, 0.11911219921971636, 0.2117372292740326, 0.0047950677532390285, 0.07100262342086357, 0.22709179326729018, 0.08142424591290265, 0.3815649752241952, 0.06642440284748305, 0.09120378605877584, 0.04931580876661513, 0.43287610235017365, 0.011927060075353945, 0.24638146496735128]\n"
     ]
    }
   ],
   "source": [
    "Results['Conceptor_Debias*'] = [relBias, p,score,p2 ,WEAT_Average_Effect_size(encodeViaConceptorNegator, religion)]"
   ]
  },
  {
   "cell_type": "markdown",
   "metadata": {
    "colab_type": "text",
    "id": "zTXrSxGpe4Lq"
   },
   "source": [
    "## Debiasing via Hard Debiasing\n",
    "Hard Debiaing Manzini et al. (2019)\n",
    "Adapted from :https://github.com/TManzini/DebiasMulticlassWordEmbedding"
   ]
  },
  {
   "cell_type": "code",
   "execution_count": 30,
   "metadata": {
    "colab": {},
    "colab_type": "code",
    "id": "TTlsGXDse4Ls"
   },
   "outputs": [],
   "source": [
    "def identify_bias_subspace(def_sets, subspace_dim, embedding_dim):\n",
    "    \"\"\"\n",
    "    Similar to bolukbasi's implementation at\n",
    "    https://github.com/tolga-b/debiaswe/blob/master/debiaswe/debias.py\n",
    "    vocab - dictionary mapping words to embeddings\n",
    "    def_sets - sets of words that represent extremes? of the subspace\n",
    "            we're interested in (e.g. man-woman, boy-girl, etc. for binary gender)\n",
    "    subspace_dim - number of vectors defining the subspace\n",
    "    embedding_dim - dimensions of the word embeddings\n",
    "    \"\"\"\n",
    "    # calculate means of defining sets # calculate vectors to perform PCA\n",
    "    means = {} \n",
    "    matrix = []\n",
    "    for term_list in def_sets:\n",
    "        wSet = []\n",
    "        for w in term_list:\n",
    "            if w in model.vocab: \n",
    "                wSet.append(model.get_vector(w))\n",
    "\n",
    "        set_vectors = np.array(wSet)\n",
    "        means = np.mean(set_vectors, axis=0)\n",
    "        diffs = set_vectors - means\n",
    "        matrix.append(diffs)\n",
    "\n",
    "    matrix = np.concatenate(matrix)\n",
    "\n",
    "    pca = PCA(n_components=subspace_dim)\n",
    "    pca.fit(matrix)\n",
    "\n",
    "    return pca.components_\n"
   ]
  },
  {
   "cell_type": "code",
   "execution_count": 31,
   "metadata": {
    "colab": {},
    "colab_type": "code",
    "id": "Vnj7SybRe4Lx"
   },
   "outputs": [],
   "source": [
    "def project_onto_subspace(vector, subspace):\n",
    "    '''\n",
    "    returns v_b : projection of the vector onto the subspace\n",
    "    '''\n",
    "    v_b = np.zeros_like(vector)\n",
    "    for component in subspace:\n",
    "        v_b += np.dot(vector.transpose(), component) * component\n",
    "    return v_b"
   ]
  },
  {
   "cell_type": "code",
   "execution_count": 32,
   "metadata": {
    "colab": {},
    "colab_type": "code",
    "id": "aNkS0Q8Te4L0"
   },
   "outputs": [],
   "source": [
    "def encodeHardDebias(word): \n",
    "    # is the word in the model vocab\n",
    "    if word not in model.vocab: \n",
    "        return 'None'\n",
    "    wordEmbed = model.get_vector(word)\n",
    "    #if the word should contain bias, i.e. is found in following sets: \n",
    "    eq_sets = equality_sets\n",
    "    eq_set =[]\n",
    "    for i in eq_sets:\n",
    "        if word in i:\n",
    "            eq_set = i\n",
    "    # is the word in a set\n",
    "    if len(eq_set) != 0:\n",
    "    #embed the set, and simultaeneuosly compute the mean\n",
    "        mean = np.zeros((300,))\n",
    "        cleanEqSet = []    \n",
    "        for w in eq_set:\n",
    "            if w in model.vocab and not w == word:\n",
    "                v = model.get_vector(w)\n",
    "                v = v / np.linalg.norm(v)\n",
    "                mean += v\n",
    "                cleanEqSet.append(v)\n",
    "            elif w == word:\n",
    "                wordEmbed = wordEmbed/np.linalg.norm(wordEmbed)\n",
    "                mean += wordEmbed\n",
    "        mean /= float(len(cleanEqSet))\n",
    "        #bias subspace component of the mean\n",
    "        mean_b = project_onto_subspace(mean, bias_subspace)\n",
    "        upsilon = mean - mean_b\n",
    "        v_b = project_onto_subspace(wordEmbed, bias_subspace)\n",
    "        frac = (v_b - mean_b) / np.linalg.norm(v_b - mean_b)\n",
    "        wordEmbed = upsilon + np.sqrt(1 - np.square(np.absolute(upsilon))) * frac\n",
    "        return wordEmbed\n",
    "    # if it should not contain any bias\n",
    "    v_b = project_onto_subspace(wordEmbed, bias_subspace)\n",
    "    wordEmbed = (wordEmbed - v_b) / np.linalg.norm(wordEmbed - v_b)\n",
    "\n",
    "    return wordEmbed"
   ]
  },
  {
   "cell_type": "code",
   "execution_count": 33,
   "metadata": {
    "colab": {},
    "colab_type": "code",
    "id": "HCTjtaaOe4L2"
   },
   "outputs": [],
   "source": [
    "#definite sets and equality sets\n",
    "bias_subspace = identify_bias_subspace(equality_sets, 1, 300 )\n",
    "#make bias subsapce 2d\n",
    "if bias_subspace.ndim == 1:\n",
    "    bias_subspace = np.expand_dims(bias_subspace, 0)\n",
    "elif bias_subspace.ndim != 2:\n",
    "    raise ValueError(\"bias subspace should be either a matrix or vector\")"
   ]
  },
  {
   "cell_type": "code",
   "execution_count": 34,
   "metadata": {
    "colab": {
     "base_uri": "https://localhost:8080/",
     "height": 363
    },
    "colab_type": "code",
    "id": "7_qS0H4Ce4L5",
    "outputId": "f9ddaa69-5e40-43a2-f4ac-4661a761b861"
   },
   "outputs": [
    {
     "name": "stdout",
     "output_type": "stream",
     "text": [
      "judaism  0.6965450544858384 christ 0.6965450633807678  islam 0.696740432442311\n",
      "judaism  0.5815842325531919 christ 0.6730430284905986  islam 0.8533007079948625\n",
      "average over 20  0.11832997081623726 [0.00252362 0.04699935 0.00374248 0.00514197 0.01675147 0.52527554\n",
      " 0.15681514 0.05861417 0.03401117 0.08832383 0.36343094]\n",
      "test stat -2.4026285100834492\n",
      "p  0.01857421168741203\n",
      "average over 20  6.99909438110394e-07 [4.25335610e-08 6.30823048e-10 7.93835940e-09 2.66438703e-08\n",
      " 4.29301194e-07 8.65088726e-07 1.60063827e-07 3.94313537e-09\n",
      " 1.47101427e-07 3.90407830e-07 5.62535107e-06]\n"
     ]
    }
   ],
   "source": [
    "relBias,_,p = RNSB_Evaluation(encodeHardDebias,equality_sets)"
   ]
  },
  {
   "cell_type": "code",
   "execution_count": 35,
   "metadata": {
    "colab": {
     "base_uri": "https://localhost:8080/",
     "height": 107
    },
    "colab_type": "code",
    "id": "1Gb868Ute4ME",
    "outputId": "e86ac89f-8c21-4d5e-ff0f-4ea55141289d",
    "scrolled": true
   },
   "outputs": [
    {
     "name": "stdout",
     "output_type": "stream",
     "text": [
      "['judaism', 'christianity', 'islam'] : 0.796114061487387\n",
      "['jew', 'christian', 'muslim'] : 0.7933538217254936\n",
      "['jews', 'christians', 'muslims'] : 0.831459205123604\n",
      "['synagogue', 'church', 'mosque'] : 0.9956580725852627\n",
      "['synagogues', 'churches', 'mosques'] : 0.987419025139226\n",
      "['torah', 'bible', 'quran'] : 0.8647106121166969\n",
      "['rabbi', 'priest', 'imam'] : 1.0018412329511364\n",
      "['rabbis', 'priests', 'imams'] : 0.992961741304827\n",
      "['abraham', 'jesus', 'muhammad'] : 0.7561409402938336\n",
      "['star', 'cross', 'hilal'] : 0.9309662720577769\n",
      "['shabbat', 'easter', 'ramadan'] : 0.8350959474186453\n",
      "['judaism', 'christianity', 'islam'] : 0.7798762041004368\n",
      "['jew', 'christian', 'muslim'] : 0.7779697438448442\n",
      "['jews', 'christians', 'muslims'] : 0.8117313206891456\n",
      "['synagogue', 'church', 'mosque'] : 0.9913475976506388\n",
      "['synagogues', 'churches', 'mosques'] : 0.9812809082575095\n",
      "['torah', 'bible', 'quran'] : 0.8595037080193201\n",
      "['rabbi', 'priest', 'imam'] : 0.9981623588407634\n",
      "['rabbis', 'priests', 'imams'] : 0.9899504226712583\n",
      "['abraham', 'jesus', 'muhammad'] : 0.7449998714863378\n",
      "['star', 'cross', 'hilal'] : 0.9370946496251209\n",
      "['shabbat', 'easter', 'ramadan'] : 0.8314679134777648\n",
      "score: 0.8821258816966492\n",
      "test stat 5.425568234397417\n",
      "p  4.410203498887944e-08\n",
      "score: 0.8896109938367172\n"
     ]
    }
   ],
   "source": [
    "score,p2,t = multiclass_evaluation(encodeHardDebias)"
   ]
  },
  {
   "cell_type": "code",
   "execution_count": 36,
   "metadata": {
    "colab": {},
    "colab_type": "code",
    "id": "a50Qy75WyfIS"
   },
   "outputs": [
    {
     "name": "stdout",
     "output_type": "stream",
     "text": [
      "[0.0009733277324354114, 0.0007559321745605632, 0.0019865040350492916, 0.0006642955537903662, 0.0013152318724061315, 0.0010726589650163912, 0.002813830962049836, 0.0003373649102302703, 0.0009733074794783077, 0.0007559924634458543, 0.001986392300647191, 0.0006643827094685886, 0.00131526024676284, 0.0010725830445126967, 0.002813831685660661, 0.0003373547038268864, 2.025648292462404e-08, 6.027450406422862e-08, 1.1192807905574676e-07, 8.715661893440438e-08, 2.8401712007243322e-08, 7.583482391263508e-08, 7.041712408395439e-10, 1.0212855665628998e-08]\n"
     ]
    }
   ],
   "source": [
    "Results['Hard_Debias*'] = [relBias, p, score, p2, WEAT_Average_Effect_size(encodeHardDebias, religion)]"
   ]
  },
  {
   "cell_type": "markdown",
   "metadata": {},
   "source": [
    "# SoftWEAT\n",
    "Popovic et al. (2020)\n",
    "Adapted from: https://github.com/RadomirPopovicFON/Joint-Multiclass-Debiasing-of-Word-Embeddings/tree/9c15ba7299599ccee6170ac6ec0d25cde95a3778"
   ]
  },
  {
   "cell_type": "code",
   "execution_count": 37,
   "metadata": {},
   "outputs": [],
   "source": [
    "final_t = {}"
   ]
  },
  {
   "cell_type": "code",
   "execution_count": 38,
   "metadata": {},
   "outputs": [],
   "source": [
    "thresh = 0.5"
   ]
  },
  {
   "cell_type": "code",
   "execution_count": 39,
   "metadata": {},
   "outputs": [],
   "source": [
    "#to get target dict\n",
    "def WEAT(embedding_meth, biasToBeTested, threshold = thresh):\n",
    "    to_debias_dict = {'islam_words': [], 'christianity_words':[], 'judaism_words':[]}\n",
    "    d_values = []\n",
    "    for category_target_pair in biasToBeTested:\n",
    "        cat_0 = [embedding_meth(c) for c in sets[category_target_pair[0]]]\n",
    "        cat_1 = [embedding_meth(c) for c in sets[category_target_pair[1]]]\n",
    "        for attribute_pair in biasToBeTested[category_target_pair]:\n",
    "            att_0 = [embedding_meth(a) for a in sets[attribute_pair[0]]]\n",
    "            att_1 = [embedding_meth(a) for a in sets[attribute_pair[1]]]\n",
    "            d = WEAT_Effect_size(cat_0, cat_1, att_0, att_1)\n",
    "            print(f'{attribute_pair[0]} , {attribute_pair[1]}, {category_target_pair[0]}, {category_target_pair[1]} = {d}')\n",
    "            d_values.append(abs(d))\n",
    "            if np.abs(d) > threshold:\n",
    "                if d > 0:\n",
    "                    if attribute_pair[0] not in to_debias_dict[category_target_pair[0]]:\n",
    "                        to_debias_dict[category_target_pair[0]].append(attribute_pair[0])\n",
    "                    if attribute_pair[1] not in to_debias_dict[category_target_pair[1]]:\n",
    "                        to_debias_dict[category_target_pair[1]].append(attribute_pair[1])\n",
    "                else: \n",
    "                    if attribute_pair[1] not in to_debias_dict[category_target_pair[0]]:\n",
    "                        to_debias_dict[category_target_pair[0]].append(attribute_pair[1])\n",
    "                    if attribute_pair[0] not in to_debias_dict[category_target_pair[1]]:\n",
    "                        to_debias_dict[category_target_pair[1]].append(attribute_pair[0]) \n",
    "    return to_debias_dict, np.mean(d_values)"
   ]
  },
  {
   "cell_type": "code",
   "execution_count": 40,
   "metadata": {},
   "outputs": [],
   "source": [
    "def addNeighbourWords(classes, n):\n",
    "    '''\n",
    "    classes: target sets for Christianity, Islam, Judaism \n",
    "    n: number of neighbours\n",
    "    returns n extra neighbours for each subclass\n",
    "    '''\n",
    "    ## Find neighbouring words\n",
    "    newWords = {}\n",
    "    for subclass in classes.keys(): \n",
    "        for word in classes[subclass]: \n",
    "            neighbours = model.similar_by_word(word, topn=n)\n",
    "            for neighbour in neighbours:\n",
    "                if neighbour[1] > 0.5:\n",
    "                    if neighbour[0] not in newWords.keys():\n",
    "                        newWords[neighbour[0]] = [subclass]\n",
    "                    elif subclass not in newWords[neighbour[0]]:\n",
    "                        newWords[neighbour[0]].append(subclass)\n",
    "    \n",
    "    for word in list(newWords.keys()):\n",
    "        for subclasses in classes.keys():\n",
    "            if word in classes[subclasses]:\n",
    "                del newWords[word]\n",
    "    for word, value in newWords.items():\n",
    "        if len(value) == 1:\n",
    "            classes[value[0]].append(word)\n",
    "        else: \n",
    "            #print('duplicate : ', word, ' in ', value)\n",
    "            best = 0\n",
    "            bestClass = None\n",
    "            for v in value:\n",
    "                sum = 0\n",
    "                c = 0 \n",
    "                for w in classes[v]:\n",
    "                    c+=1\n",
    "                    sum += model.similarity(word,w)\n",
    "                mean = sum/c\n",
    "                if mean > best:\n",
    "                    best = mean\n",
    "                    bestClass = v\n",
    "            #print('duplicate : ', word, ' in ', value, ' put in ', bestClass, ' with ', best)\n",
    "            classes[bestClass].append(word)\n",
    "    for s in classes:\n",
    "        print(s, len(classes[s]))\n",
    "        print(classes[s])\n",
    "    return classes"
   ]
  },
  {
   "cell_type": "code",
   "execution_count": 41,
   "metadata": {},
   "outputs": [],
   "source": [
    "def embeddingsoftWEAT(word, classes, T = final_t):\n",
    "    if word not in model.vocab: \n",
    "        return 'None'\n",
    "    for sc in classes.keys():\n",
    "        if word in classes[sc] and T[sc] != []:\n",
    "            t = T[sc]\n",
    "            word = np.array(model.get_vector(word))\n",
    "            word = np.append(word, 1)\n",
    "            v =  np.dot(t, word)[0:-1]\n",
    "            return v / np.linalg.norm(v)\n",
    "    return model.get_vector(word)"
   ]
  },
  {
   "cell_type": "code",
   "execution_count": 42,
   "metadata": {},
   "outputs": [],
   "source": [
    "def WEATtest(embedding_meth, T, classes, biasToBeTested, threshold = thresh):\n",
    "    d_values = []\n",
    "    for category_target_pair in biasToBeTested:\n",
    "        cat_0 = [embedding_meth(c,classes,T) for c in sets[category_target_pair[0]]]\n",
    "        cat_1 = [embedding_meth(c,classes,T) for c in sets[category_target_pair[1]]]\n",
    "        for attribute_pair in biasToBeTested[category_target_pair]:\n",
    "            att_0 = [embedding_meth(a,classes,T) for a in sets[attribute_pair[0]]]\n",
    "            att_1 = [embedding_meth(a,classes,T) for a in sets[attribute_pair[1]]]\n",
    "            d = WEAT_Effect_size(cat_0, cat_1, att_0, att_1)\n",
    "            d_values.append(abs(d))\n",
    " \n",
    "    return np.mean(d_values)"
   ]
  },
  {
   "cell_type": "code",
   "execution_count": 43,
   "metadata": {},
   "outputs": [],
   "source": [
    "def getT(debias_dict, all_attribute_words, classes, l):\n",
    "    t = {'islam_words': [], 'christianity_words':[], 'judaism_words':[]}\n",
    "    final_t = {}\n",
    "    #for each subclass\n",
    "    for s in debias_dict.keys():\n",
    "        biasedAttr = debias_dict[s]\n",
    "        #for each attribute set its biased against\n",
    "        print(biasedAttr, type(biasedAttr))\n",
    "        targetWords = classes[s]  # target words are all terms referring to the class and their neighbours determined earlier\n",
    "        #if a word is both in targetwords and attributes, then delete from targetwords\n",
    "        for w in all_attribute_words:\n",
    "            if w in targetWords:\n",
    "                targetWords.remove(w)\n",
    "        #embed targetwords\n",
    "        targetWords = [model.get_vector(w) for w in targetWords if w in model.vocab]\n",
    "        #mean of target words\n",
    "        meanTargetWord = np.mean(targetWords, axis = 0)\n",
    "        #for each biased attribute set, calculate mean of attribute set\n",
    "        meanAttSets = []\n",
    "        for attset in biasedAttr:\n",
    "            tempSet = [model.get_vector(w) for w in sets[attset]]\n",
    "            meanAttSets.append(np.mean(tempSet, axis = 0))\n",
    "        meanMatrix = np.array(meanAttSets)\n",
    "        #null space vectors for mean of attribute sets:\n",
    "        #The null space of any matrix A consists of all the vectors B such that AB = 0 and B is not zero\n",
    "        null_space_vectors = ns(meanMatrix)\n",
    "        print('len', np.size(null_space_vectors, 1))\n",
    "        temp = 100#size(null_space_vectors, axis = 0)\n",
    "        print(type(null_space_vectors))\n",
    "        d_vals = []\n",
    "        best = 2\n",
    "        bestMat = None\n",
    "        for n in range(temp):\n",
    "            #n is the number null space vector \n",
    "            T = null_space_vectors[:,n] - meanTargetWord\n",
    "            TI = np.identity(len(T)+1)\n",
    "            for t_i, value in enumerate(T):\n",
    "                TI[t_i, -1] = value * l \n",
    "            t[s] = TI\n",
    "            d = WEATtest(embeddingsoftWEAT,t,classes, religion)\n",
    "            #print('effect size d = ',d) \n",
    "            if d < best: \n",
    "                print('changed d is now ',d)\n",
    "                best = d\n",
    "                bestMat = TI\n",
    "            d_vals.append(d)\n",
    "        final_t[s] = TI\n",
    "    return final_t"
   ]
  },
  {
   "cell_type": "code",
   "execution_count": 44,
   "metadata": {},
   "outputs": [],
   "source": [
    "def softWEAT(lamda):\n",
    "    #get attribute sets to debias to\n",
    "    debias_dict,_ = WEAT(encode_nondebias,religion)\n",
    "    print(debias_dict)\n",
    "    \n",
    "    #establish target words and neighbours to debias\n",
    "    classes = {}\n",
    "    classes['islam_words'] = sets['islam_words'].copy()\n",
    "    classes['christianity_words'] = sets['christianity_words'].copy()\n",
    "    classes['judaism_words'] = sets['judaism_words'].copy()\n",
    "    classes = addNeighbourWords(classes, 10)\n",
    "    for s in classes:\n",
    "        print(s, len(classes[s]))\n",
    "        \n",
    "    #list all words in each attribute set\n",
    "    all_attribute_words = []\n",
    "    for s in sets.keys():\n",
    "        if s != 'christianity_words' and s!= 'islam_words' and s!= 'judaism_words':\n",
    "            all_attribute_words.extend(sets[s])\n",
    "    print('All Attribute Words', all_attribute_words)\n",
    "    \n",
    "    final_t = {}\n",
    "    final_t = getT(debias_dict, all_attribute_words, classes,lamda)\n",
    "    return final_t, classes"
   ]
  },
  {
   "cell_type": "code",
   "execution_count": 45,
   "metadata": {
    "scrolled": true
   },
   "outputs": [
    {
     "name": "stdout",
     "output_type": "stream",
     "text": [
      "likeable , unlikeable, islam_words, judaism_words = -0.26066891607626996\n",
      "competent , incompetent, islam_words, judaism_words = 0.40838164801997817\n",
      "shy , aggressive, islam_words, judaism_words = -0.005682144845930048\n",
      "intellectual_words , appearance_words, islam_words, judaism_words = -0.4421097319788695\n",
      "family , career, islam_words, judaism_words = -0.4786866281807168\n",
      "instruments , weapons, islam_words, judaism_words = 1.2101514554789525\n",
      "pleasant , unpleasant, islam_words, judaism_words = 0.9100249979993442\n",
      "science , art, islam_words, judaism_words = -0.41257207784203753\n",
      "likeable , unlikeable, islam_words, christianity_words = -0.28454531118961734\n",
      "competent , incompetent, islam_words, christianity_words = 0.7620611940494734\n",
      "shy , aggressive, islam_words, christianity_words = -0.030062573246757235\n",
      "intellectual_words , appearance_words, islam_words, christianity_words = -0.2772419557116415\n",
      "family , career, islam_words, christianity_words = -0.30306180801277566\n",
      "instruments , weapons, islam_words, christianity_words = 0.7599421809029535\n",
      "pleasant , unpleasant, islam_words, christianity_words = 1.0536442159511894\n",
      "science , art, islam_words, christianity_words = -0.31651217215973515\n",
      "likeable , unlikeable, judaism_words, christianity_words = 0.018352683771000064\n",
      "competent , incompetent, judaism_words, christianity_words = 0.2567078594016816\n",
      "shy , aggressive, judaism_words, christianity_words = -0.023672850382630804\n",
      "intellectual_words , appearance_words, judaism_words, christianity_words = 0.17404635457394793\n",
      "family , career, judaism_words, christianity_words = 0.15471786708628507\n",
      "instruments , weapons, judaism_words, christianity_words = -0.8087072262644193\n",
      "pleasant , unpleasant, judaism_words, christianity_words = 0.041342490092856066\n",
      "science , art, judaism_words, christianity_words = 0.07971854132974603\n",
      "{'islam_words': ['instruments', 'pleasant', 'competent'], 'christianity_words': ['incompetent', 'weapons', 'unpleasant', 'instruments'], 'judaism_words': ['weapons', 'unpleasant']}\n",
      "islam_words 91\n",
      "['islam', 'muslim', 'muslims', 'mosque', 'mosques', 'quran', 'imam', 'imams', 'muhammad', 'hilal', 'ramadan', 'islamic', 'Islam', 'radical_islam', 'religon', 'hinduism', 'hindu', 'kafir', 'Muslim', 'Moslem', 'moslem', 'Muslims', 'Moslems', 'moslems', 'pakistanis', 'tamils', 'Mosque', 'masjid', 'Masjid', 'mosque_imam', 'Mosques', 'Haqq_mosque', 'mosque_Masjid', 'Noor_Mosque', 'Churches_synagogues', 'churches_synagogues_temples', 'masjids', 'Masjids', 'gurdwaras', 'Eidgahs', 'koran', \"Qur'aan\", \"Qur'an\", \"Qu'ran\", \"holy_Qur'an\", 'Quoran', 'surahs', \"Q'uran\", \"Noble_Qur'an\", 'holy_Koran', 'Imam', 'Muslim_cleric', 'cleric', 'Masjid_al', 'Imam_Siraj_Wahhaj', 'Imam_Sayed', 'Imams', 'Muslim_clerics', 'radical_imams', 'clerics', 'Islamic_clerics', 'preachers', 'mohammed', 'imran', 'mohammad', 'ahmed', 'irfan', 'pir', 'syed', 'Mohammed_PBUH', '@_courier.co.uk', 'Shawwal', 'Hijri_calendar', 'Shawwal_moon', 'Syawal', 'astronomical_calculations', 'Shawal_moon', 'Dhul_Hijjah', 'Hijri', 'Dhul_Hijja', 'crescent_moon', 'fitr', 'puasa', 'Eid_Ul', 'kenduri', 'Ramzaan', 'eid', 'Ramadaan', 'Maghrib_prayer', 'Isyak_prayers', 'adha']\n",
      "christianity_words 86\n",
      "['christianity', 'christian', 'christians', 'church', 'churches', 'bible', 'priest', 'priests', 'jesus', 'cross', 'easter', 'Christianity', 'athiests', 'mormons', 'athiest', 'catholicism', 'relgion', 'christain', 'baptist', 'mormon', 'catholics', 'Christians', 'Christains', 'bible_thumpers', 'africans', 'congregation', 'Church', 'parishioners', 'Catholic_Church', 'congregations', 'parish', 'chuch', 'parishoners', 'Roman_Catholic_Church', 'Churches', 'pastors', 'Protestant_churches', 'Baptist_churches', 'Evangelical_Covenant', 'Presbyterian_congregations', 'parachurch_ministries', 'parishes', 'Bible', 'bibles', 'Holy_Bible', 'scriptures', 'scripture', 'New_Testament', 'Scripture', 'Didache', 'Scriptures', 'Oxford_Annotated', 'Catholic_priest', 'parish_priest', 'bishop', 'Roman_Catholic_priest', 'archbishop', 'seminarian', 'clergyman', 'diocesan_priest', 'catholic_priest', 'clergy', 'bishops', 'parish_priests', 'seminarians', 'diocesan_priests', 'Roman_Catholic_priests', 'diocesan_clergy', 'diocese', 'jesus_christ', 'christ', 'cuz_u', 'jesse', 'lmfao', 'hahah', 'angelina', 'hitler', 'michele', 'crosses', 'crossed', 'crossing', 'Selembu', 'corss', 'christmas', 'Easter', 'xmas']\n",
      "judaism_words 101\n",
      "['judaism', 'jew', 'jews', 'synagogue', 'synagogues', 'torah', 'rabbi', 'rabbis', 'abraham', 'star', 'shabbat', 'jewish', 'jessie', 'licencia_photoshop_cs4', 'ayin', 'licencia_microsoft_office', 'acheter_nero', 'zionism', 'fsf', 'licencia_adobe_photoshop', 'shari', 'lingua', 'prix_acrobat', 'rahm', 'mhux', 'yid', 'yur', 'israel', 'gilbert', 'kol', 'arabs', 'Jews', 'palestinians', 'zionists', 'palestine', 'kikes', 'shul', 'Synagogue', 'Orthodox_synagogue', 'shuls', 'Orthodox_shul', 'Chabad_rabbi', 'Kehilat', 'yeshiva', 'Synagogues', 'Jewish', 'Bet_Haverim', 'JCCs', 'mikvahs', 'Torah', 'siddur', 'Torah_scroll', 'sefer_Torah', 'Mishkan', 'Sefer_Torah', 'haftarah', 'sefer', 'Rabbi_Youlus', 'mitzvah', 'Rabbi', 'rabbinical', 'Orthodox_rabbi', 'cantor', 'Rabbi_Yosef', 'rabbinic', 'Rabbis', 'Orthodox_rabbis', 'rabbonim', 'rabbinate', 'halachic', 'Zionist_rabbis', 'armstrong', 'simon', 'derek', 'caroline', 'nigel', 'adrian', 'maxwell', 'cherie', 'nuffin', 'vivian', 'stars', 'superstar', 'starlet', 'megastar', 'heart_throb', 'teen_heart_throb', 'heart_throb_Zac_Efron', 'heartthrob', 'superstars', 'standout', 'oneg', 'havdalah', 'kiddush', 'Shavuos', 'Shabbat', 'mincha', 'Erev_Shabbat', 'Shabbat_Sabbath', 'Shemini_Atzeret', 'seudah']\n",
      "islam_words 91\n",
      "christianity_words 86\n",
      "judaism_words 101\n",
      "All Attribute Words ['caress', 'freedom', 'health', 'love', 'peace', 'cheer', 'friend', 'heaven', 'loyal', 'pleasure', 'diamond', 'gentle', 'honest', 'lucky', 'rainbow', 'diploma', 'gift', 'honor', 'miracle', 'sunrise', 'family', 'happy', 'laughter', 'paradise', 'vacation', 'joy', 'wonderful', 'abuse', 'crash', 'filth', 'murder', 'sickness', 'accident', 'death', 'grief', 'poison', 'stink', 'assault', 'disaster', 'hatred', 'pollute', 'tragedy', 'divorce', 'jail', 'poverty', 'ugly', 'cancer', 'kill', 'rotten', 'vomit', 'agony', 'prison', 'terrible', 'horrible', 'bagpipe', 'cello', 'guitar', 'lute', 'trombone', 'banjo', 'clarinet', 'harmonica', 'mandolin', 'trumpet', 'bassoon', 'drum', 'harp', 'oboe', 'tuba', 'bell', 'fiddle', 'harpsichord', 'piano', 'viola', 'bongo', 'flute', 'horn', 'saxophone', 'arrow', 'club', 'gun', 'missile', 'spear', 'dagger', 'harpoon', 'pistol', 'sword', 'blade', 'dynamite', 'hatchet', 'rifle', 'tank', 'bomb', 'firearm', 'knife', 'shotgun', 'teargas', 'cannon', 'grenade', 'mace', 'slingshot', 'whip', 'executive', 'management', 'professional', 'corporation', 'salary', 'office', 'business', 'career', 'home', 'parents', 'children', 'family', 'cousins', 'marriage', 'wedding', 'relatives', 'science', 'technology', 'physics', 'chemistry', 'einstein', 'nasa', 'experiment', 'astronomy', 'poetry', 'art', 'dance', 'literature', 'novel', 'symphony', 'drama', 'sculpture', 'resourceful', 'inquisitive', 'sagacious', 'inventive', 'adaptable', 'intuitive', 'analytical', 'imaginative', 'shrewd', 'thoughtful', 'smart', 'clever', 'brilliant', 'logical', 'intelligent', 'apt', 'genius', 'wise', 'stupid', 'dumb', 'dull', 'clumsy', 'foolish', 'naive', 'unintelligent', 'alluring', 'voluptuous', 'blushing', 'homely', 'plump', 'sensual', 'gorgeous', 'slim', 'bald', 'athletic', 'fashionable', 'stout', 'ugly', 'muscular', 'slender', 'feeble', 'handsome', 'healthy', 'attractive', 'fat', 'weak', 'thin', 'pretty', 'beautiful', 'strong', 'soft', 'quiet', 'compromising', 'rational', 'calm', 'kind', 'agreeable', 'servile', 'pleasant', 'cautious', 'friendly', 'supportive', 'nice', 'mild', 'demure', 'passive', 'indifferent', 'shrill', 'loud', 'argumentative', 'irrational', 'angry', 'abusive', 'obnoxious', 'controlling', 'nagging', 'brash', 'hostile', 'mean', 'harsh', 'sassy', 'aggressive', 'opinionated', 'domineering', 'competent', 'productive', 'effective', 'ambitious', 'active', 'decisive', 'strong', 'tough', 'incompetent', 'unproductive', 'ineffective', 'passive', 'indecisive', 'weak', 'gentle', 'timid', 'agreeable', 'fair', 'honest', 'trustworthy', 'selfless', 'accommodating', 'abrasive', 'conniving', 'manipulative', 'dishonest', 'selfish', 'pushy']\n",
      "['instruments', 'pleasant', 'competent'] <class 'list'>\n"
     ]
    },
    {
     "name": "stdout",
     "output_type": "stream",
     "text": [
      "len 297\n",
      "<class 'numpy.ndarray'>\n",
      "changed d is now  0.38822100164802914\n",
      "changed d is now  0.33643090579389545\n",
      "changed d is now  0.3353470144982699\n",
      "changed d is now  0.3105159380964588\n",
      "changed d is now  0.27597121635468186\n",
      "['incompetent', 'weapons', 'unpleasant', 'instruments'] <class 'list'>\n",
      "len 296\n",
      "<class 'numpy.ndarray'>\n",
      "changed d is now  0.3814595917335346\n",
      "changed d is now  0.3571336603699085\n",
      "changed d is now  0.32677588210800407\n",
      "['weapons', 'unpleasant'] <class 'list'>\n",
      "len 298\n",
      "<class 'numpy.ndarray'>\n",
      "changed d is now  0.27254919217664975\n",
      "changed d is now  0.2677468156619666\n",
      "changed d is now  0.2630272128622321\n",
      "changed d is now  0.259195572015313\n",
      "changed d is now  0.2524655944101561\n"
     ]
    }
   ],
   "source": [
    "thresh = 0.5\n",
    "final_t, classes = softWEAT(lamda= 0.5)"
   ]
  },
  {
   "cell_type": "code",
   "execution_count": 46,
   "metadata": {},
   "outputs": [],
   "source": [
    "def embeddingsoftWEATEval(word):\n",
    "    T = final_t\n",
    "    if word not in model.vocab: \n",
    "        return 'None'\n",
    "    for sc in classes.keys():\n",
    "        if word in classes[sc]:\n",
    "            if T[sc] != []:\n",
    "                t = T[sc]\n",
    "                word = np.array(model.get_vector(word))\n",
    "                word = np.append(word, 1)\n",
    "                v =  np.dot(t, word)[0:-1]\n",
    "                return v / np.linalg.norm(v)\n",
    "    v = model.get_vector(word)\n",
    "    return v / np.linalg.norm(v)"
   ]
  },
  {
   "cell_type": "code",
   "execution_count": 47,
   "metadata": {},
   "outputs": [
    {
     "name": "stdout",
     "output_type": "stream",
     "text": [
      "judaism  0.6162357087370495 christ 0.6474713033764599  islam 0.7634398968088492\n",
      "judaism  0.5765224928399951 christ 0.6707283255974406  islam 0.8555225942861951\n",
      "average over 20  0.11610576432784316 [0.00273448 0.04396369 0.0030257  0.0065152  0.01959617 0.51477097\n",
      " 0.17519754 0.05360199 0.03017941 0.0951017  0.33247655]\n",
      "test stat -1.9901727314249595\n",
      "p  0.037299573697205775\n",
      "average over 20  0.07296111003833436 [6.97237413e-05 2.29237121e-02 9.71506273e-03 1.01376681e-02\n",
      " 1.78188363e-02 2.80638855e-01 3.52233891e-02 1.18326112e-02\n",
      " 1.25789426e-02 7.82369741e-02 3.23396435e-01]\n",
      "['judaism', 'christianity', 'islam'] : 0.8088369943270665\n",
      "['jew', 'christian', 'muslim'] : 0.7958037788388955\n",
      "['jews', 'christians', 'muslims'] : 0.8308680761094593\n",
      "['synagogue', 'church', 'mosque'] : 1.0385256984294269\n",
      "['synagogues', 'churches', 'mosques'] : 1.0233995099758033\n",
      "['torah', 'bible', 'quran'] : 0.888129615504949\n",
      "['rabbi', 'priest', 'imam'] : 1.0444749224309107\n",
      "['rabbis', 'priests', 'imams'] : 1.0320160697984597\n",
      "['abraham', 'jesus', 'muhammad'] : 0.799691615823864\n",
      "['star', 'cross', 'hilal'] : 1.0100354915675094\n",
      "['shabbat', 'easter', 'ramadan'] : 0.8740125060491254\n",
      "['judaism', 'christianity', 'islam'] : 0.7798762041004368\n",
      "['jew', 'christian', 'muslim'] : 0.7779697438448442\n",
      "['jews', 'christians', 'muslims'] : 0.8117313206891456\n",
      "['synagogue', 'church', 'mosque'] : 0.9913475976506388\n",
      "['synagogues', 'churches', 'mosques'] : 0.9812809082575095\n",
      "['torah', 'bible', 'quran'] : 0.8595037080193201\n",
      "['rabbi', 'priest', 'imam'] : 0.9981623588407634\n",
      "['rabbis', 'priests', 'imams'] : 0.9899504226712583\n",
      "['abraham', 'jesus', 'muhammad'] : 0.7449998714863378\n",
      "['star', 'cross', 'hilal'] : 0.9370946496251209\n",
      "['shabbat', 'easter', 'ramadan'] : 0.8314679134777648\n",
      "score: 0.8821258816966492\n",
      "test stat 39.749015543495865\n",
      "p  5.1805721086193794e-161\n",
      "score: 0.9223449344414063\n",
      "[0.0431177358337142, 0.41754938481546583, 0.08319347128664856, 0.12704618135329238, 0.5762235694759599, 0.8340100581605826, 0.7593488860338011, 0.42506179652982906, 0.01385025216652964, 0.5119903132165662, 0.2722481453313275, 0.008175385359469226, 0.34016222970613574, 0.4401232774530972, 0.9655917053958134, 0.07427945559921056, 0.03062756949337663, 0.07174282676549698, 0.18891638684824041, 0.11072399774881578, 0.2728012388346777, 0.5443654992135015, 0.13497837233940177, 0.34723768704066776]\n"
     ]
    }
   ],
   "source": [
    "relBias,_,p  = RNSB_Evaluation(embeddingsoftWEATEval,equality_sets)\n",
    "score,p2,t = multiclass_evaluation(embeddingsoftWEATEval)\n",
    "Results['softWEAT_Debias*'] = [relBias,p, score, p2,WEAT_Average_Effect_size(embeddingsoftWEATEval, religion)]"
   ]
  },
  {
   "cell_type": "code",
   "execution_count": 48,
   "metadata": {},
   "outputs": [
    {
     "name": "stdout",
     "output_type": "stream",
     "text": [
      "Nondebias* [0.12823775556463923, 0, 0.8821258816966492, nan, 0.39469228685620034]\n",
      "Conceptor_Debias* [0.0067377115121234, 0.018414037101185162, 0.9956381136554976, 1.4359195545117307e-103, 0.17112280499191349]\n",
      "Hard_Debias* [6.99909438110394e-07, 0.01857421168741203, 0.8896109938367172, 4.410203498887944e-08, 0.0008266102336912121]\n",
      "softWEAT_Debias* [0.07296111003833436, 0.037299573697205775, 0.9223449344414063, 5.1805721086193794e-161, 0.3163902260834009]\n"
     ]
    }
   ],
   "source": [
    "for i in Results.keys():\n",
    "    print(i, Results[i])"
   ]
  },
  {
   "cell_type": "markdown",
   "metadata": {
    "colab_type": "text",
    "id": "o1TfjLD5e4MK"
   },
   "source": [
    "# Visualization Of Results"
   ]
  },
  {
   "cell_type": "code",
   "execution_count": 49,
   "metadata": {
    "scrolled": true
   },
   "outputs": [
    {
     "name": "stdout",
     "output_type": "stream",
     "text": [
      "Nondebias*\n",
      "RNSB Score: 0.12824 with a p value of  0;\n",
      "MAC Score: 0.88213; with a p value of nan\n",
      "WEAT Score: 0.39469 \n",
      "Conceptor_Debias*\n",
      "RNSB Score: 0.00674 with a p value of  0.01841;\n",
      "MAC Score: 0.99564; with a p value of 0.0\n",
      "WEAT Score: 0.17112 \n",
      "Hard_Debias*\n",
      "RNSB Score: 0.0 with a p value of  0.01857;\n",
      "MAC Score: 0.88961; with a p value of 0.0\n",
      "WEAT Score: 0.00083 \n",
      "softWEAT_Debias*\n",
      "RNSB Score: 0.07296 with a p value of  0.0373;\n",
      "MAC Score: 0.92234; with a p value of 0.0\n",
      "WEAT Score: 0.31639 \n"
     ]
    }
   ],
   "source": [
    "for key, value in Results.items():\n",
    "    print(key)\n",
    "    print(f'RNSB Score: {round(value[0],5)} with a p value of  {round(value[1],5)};')\n",
    "    print(f'MAC Score: {round(value[2],5)}; with a p value of {round(value[3],5)}')      \n",
    "    print(f'WEAT Score: {round(value[4],5)} ')"
   ]
  },
  {
   "cell_type": "code",
   "execution_count": 50,
   "metadata": {
    "colab": {},
    "colab_type": "code",
    "id": "TvnjfiLCyfIX",
    "outputId": "a53216fa-e1cc-471d-abb4-1424f7fbf90c"
   },
   "outputs": [
    {
     "name": "stdout",
     "output_type": "stream",
     "text": [
      " Nondebias* : 0.12823775556463923\n",
      " Conceptor_Debias* : 0.0067377115121234\n",
      " Hard_Debias* : 6.99909438110394e-07\n",
      " softWEAT_Debias* : 0.07296111003833436\n"
     ]
    },
    {
     "data": {
      "image/png": "[encoded data removed]",
      "text/plain": [
       "<Figure size 1440x216 with 1 Axes>"
      ]
     },
     "metadata": {
      "needs_background": "light"
     },
     "output_type": "display_data"
    }
   ],
   "source": [
    "RNSB = [d[0] for d in Results.values()]\n",
    "for key, value in Results.items():\n",
    "    print(f' {key} : {value[0]}')\n",
    "plt.figure(figsize=(20, 3))\n",
    "plt.title('RNSB on Judaism, Christianity, Islam')\n",
    "plt.bar(Results.keys(), RNSB)\n",
    "plt.show()\n"
   ]
  },
  {
   "cell_type": "code",
   "execution_count": 51,
   "metadata": {
    "colab": {},
    "colab_type": "code",
    "id": "RZ6UF9O2yfIg",
    "outputId": "cfd46c61-469a-4951-f2a3-3bdf66bc00ae"
   },
   "outputs": [
    {
     "name": "stdout",
     "output_type": "stream",
     "text": [
      " Nondebias* : 0\n",
      " Conceptor_Debias* : 0.018414037101185162\n",
      " Hard_Debias* : 0.01857421168741203\n",
      " softWEAT_Debias* : 0.037299573697205775\n"
     ]
    },
    {
     "data": {
      "image/png": "[encoded data removed]",
      "text/plain": [
       "<Figure size 1440x216 with 1 Axes>"
      ]
     },
     "metadata": {
      "needs_background": "light"
     },
     "output_type": "display_data"
    }
   ],
   "source": [
    "MAC = [d[2] for d in Results.values()]\n",
    "for key, value in Results.items():\n",
    "    print(f' {key} : {value[1]}')\n",
    "plt.figure(figsize=(20, 3))\n",
    "plt.title('Mean Average Cosine Similarity')\n",
    "plt.bar(Results.keys(), MAC)\n",
    "plt.show()\n"
   ]
  },
  {
   "cell_type": "code",
   "execution_count": 52,
   "metadata": {
    "colab": {},
    "colab_type": "code",
    "id": "vFZgVmeMyfIi",
    "outputId": "c11e291e-505f-4c49-e649-d46ee7fbd4a9"
   },
   "outputs": [
    {
     "name": "stdout",
     "output_type": "stream",
     "text": [
      " Nondebias* : 0.8821258816966492\n",
      " Conceptor_Debias* : 0.9956381136554976\n",
      " Hard_Debias* : 0.8896109938367172\n",
      " softWEAT_Debias* : 0.9223449344414063\n"
     ]
    },
    {
     "data": {
      "image/png": "[encoded data removed]",
      "text/plain": [
       "<Figure size 1440x216 with 1 Axes>"
      ]
     },
     "metadata": {
      "needs_background": "light"
     },
     "output_type": "display_data"
    }
   ],
   "source": [
    "WEATD = [d[4] for d in Results.values()]\n",
    "for key, value in Results.items():\n",
    "    print(f' {key} : {value[2]}')\n",
    "plt.figure(figsize=(20, 3))\n",
    "plt.title('WEAT Effect size')\n",
    "plt.bar(Results.keys(), WEATD)\n",
    "plt.show()\n"
   ]
  },
  {
   "cell_type": "code",
   "execution_count": null,
   "metadata": {},
   "outputs": [],
   "source": []
  }
 ],
 "metadata": {
  "colab": {
   "collapsed_sections": [
    "CBslGgawe4KP",
    "GniwlqaTe4Ki",
    "zTXrSxGpe4Lq"
   ],
   "name": "Thesis_Planning(ii).ipynb",
   "provenance": []
  },
  "kernelspec": {
   "display_name": "PyCharm (Thesis Code)",
   "language": "python",
   "name": "pycharm-8c054aba"
  },
  "language_info": {
   "codemirror_mode": {
    "name": "ipython",
    "version": 3
   },
   "file_extension": ".py",
   "mimetype": "text/x-python",
   "name": "python",
   "nbconvert_exporter": "python",
   "pygments_lexer": "ipython3",
   "version": "3.7.6"
  }
 },
 "nbformat": 4,
 "nbformat_minor": 1
}
