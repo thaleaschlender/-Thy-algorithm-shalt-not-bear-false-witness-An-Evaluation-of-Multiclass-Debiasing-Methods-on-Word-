{
 "cells": [
  {
   "cell_type": "markdown",
   "metadata": {},
   "source": [
    "# \"Thy algorithm shalt not bear false witness\": An Evaluation of Multiclass Debiasing Methods on Word Embeddings\n",
    "\n",
    "\n",
    "This is the code to support the paper \"\"Thy algorithm shalt not bear false witness\": An Evaluation of Multiclass Debiasing Methods on Word Embeddings\"\n",
    " It shows, which experiments and debiasing techniques are applied to word embedding word2vec.\n",
    "The approaches are namely: \n",
    "\n",
    "Debiasing approaches: \n",
    "*   Conceptor Debiasing\n",
    "*   Hard Debiasing\n",
    "*   softWEAT\n",
    "\n",
    "Evaluation Metrics: \n",
    "*   Relative Negative Sentiment Bias(RNSB) Metric\n",
    "*   Mean Average Cosine Similarity (MAC) Metric\n",
    "*   Word Association Evaluation Test (WEAT) effect size Metric\n",
    "\n",
    "This Notebook refers to the contextNet embeddings."
   ]
  },
  {
   "cell_type": "markdown",
   "metadata": {},
   "source": [
    "# Import packages"
   ]
  },
  {
   "cell_type": "code",
   "execution_count": 1,
   "metadata": {},
   "outputs": [],
   "source": [
    "#Import needed Packages\n",
    "import numpy as np\n",
    "import re\n",
    "from sklearn.linear_model import LogisticRegression\n",
    "from sklearn.model_selection import train_test_split\n",
    "from sklearn import metrics\n",
    "from sklearn.decomposition import PCA\n",
    "from scipy.spatial.distance import cosine\n",
    "import torch\n",
    "import matplotlib.pyplot as plt\n",
    "from scipy.linalg import null_space as ns\n",
    "from statistics import mean\n",
    "from scipy import stats\n",
    "import warnings\n",
    "from itertools import combinations"
   ]
  },
  {
   "cell_type": "code",
   "execution_count": 2,
   "metadata": {},
   "outputs": [],
   "source": [
    "def loadConceptNetVectors():\n",
    "    embeddings_dict = {}\n",
    "    with open(\"FILEPATH\\\\numberbatch-en.txt\", 'r', encoding=\"utf8\") as f:\n",
    "        for line in f:\n",
    "            values = line.split()\n",
    "            word = values[0]\n",
    "            if isfloat(values[1]):\n",
    "                vector = np.asarray(values[1:], \"float32\")\n",
    "                if len(vector) != 300:\n",
    "                    print('INVALID LENGTH', len(vector), word)\n",
    "                else:\n",
    "                    embeddings_dict[word] = vector\n",
    "                #print(word)\n",
    "    return embeddings_dict"
   ]
  },
  {
   "cell_type": "code",
   "execution_count": 3,
   "metadata": {},
   "outputs": [],
   "source": [
    "def isfloat(value):\n",
    "    try:\n",
    "        float(value)\n",
    "        return True\n",
    "    except ValueError:\n",
    "        return False\n"
   ]
  },
  {
   "cell_type": "code",
   "execution_count": 4,
   "metadata": {},
   "outputs": [
    {
     "name": "stdout",
     "output_type": "stream",
     "text": [
      "INVALID LENGTH 1 516782\n"
     ]
    }
   ],
   "source": [
    "model = loadConceptNetVectors()"
   ]
  },
  {
   "cell_type": "markdown",
   "metadata": {},
   "source": [
    "# Data\n",
    "\n",
    "Below the data for the debaising and evaluation methods are defined.\n",
    "\n",
    "The sets of words concerning a particular attribute class are taken from Popovic, Lemmerich and Strohmaier (2020)."
   ]
  },
  {
   "cell_type": "code",
   "execution_count": 5,
   "metadata": {},
   "outputs": [],
   "source": [
    "sets = {'pleasant': ['caress', 'freedom', 'health', 'love', 'peace', 'cheer', 'friend', 'heaven', 'loyal', 'pleasure', 'diamond', 'gentle', 'honest', 'lucky', 'rainbow', 'diploma', 'gift', 'honor', 'miracle', 'sunrise', 'family', 'happy', 'laughter', 'paradise', 'vacation', 'joy', 'wonderful'],\n",
    "        'unpleasant': ['abuse', 'crash', 'filth', 'murder', 'sickness', 'accident', 'death', 'grief', 'poison', 'stink', 'assault', 'disaster', 'hatred', 'pollute', 'tragedy', 'divorce', 'jail', 'poverty', 'ugly', 'cancer', 'kill', 'rotten', 'vomit', 'agony', 'prison', 'terrible', 'horrible'],\n",
    "        'instruments': ['bagpipe', 'cello', 'guitar', 'lute', 'trombone', 'banjo', 'clarinet', 'harmonica', 'mandolin', 'trumpet', 'bassoon', 'drum', 'harp', 'oboe', 'tuba', 'bell', 'fiddle', 'harpsichord', 'piano', 'viola', 'bongo', 'flute', 'horn', 'saxophone'],\n",
    "        'weapons': ['arrow', 'club', 'gun', 'missile', 'spear', 'dagger', 'harpoon', 'pistol', 'sword', 'blade', 'dynamite', 'hatchet', 'rifle', 'tank', 'bomb', 'firearm', 'knife', 'shotgun', 'teargas', 'cannon', 'grenade', 'mace', 'slingshot', 'whip'],\n",
    "        'career': ['executive', 'management', 'professional', 'corporation', 'salary', 'office', 'business', 'career'],\n",
    "        'family': ['home', 'parents', 'children', 'family', 'cousins', 'marriage', 'wedding', 'relatives'],\n",
    "        'science': ['science', 'technology', 'physics', 'chemistry', 'einstein', 'nasa', 'experiment', 'astronomy'],\n",
    "        'art': ['poetry', 'art', 'dance', 'literature', 'novel', 'symphony', 'drama', 'sculpture'], \n",
    "        'intellectual_words': ['resourceful', 'inquisitive', 'sagacious', 'inventive', 'adaptable', 'intuitive', 'analytical', 'imaginative', 'shrewd', 'thoughtful', 'smart', 'clever', 'brilliant', 'logical', 'intelligent', 'apt', 'genius', 'wise', 'stupid', 'dumb', 'dull', 'clumsy', 'foolish', 'naive', 'unintelligent'],\n",
    "        'appearance_words': ['alluring', 'voluptuous', 'blushing', 'homely', 'plump', 'sensual', 'gorgeous', 'slim', 'bald', 'athletic', 'fashionable', 'stout', 'ugly', 'muscular', 'slender', 'feeble', 'handsome', 'healthy', 'attractive', 'fat', 'weak', 'thin', 'pretty', 'beautiful', 'strong'], \n",
    "        'shy': ['soft', 'quiet', 'compromising', 'rational', 'calm', 'kind', 'agreeable', 'servile', 'pleasant', 'cautious', 'friendly', 'supportive', 'nice', 'mild', 'demure', 'passive', 'indifferent'],\n",
    "        'aggressive': ['shrill', 'loud', 'argumentative', 'irrational', 'angry', 'abusive', 'obnoxious', 'controlling', 'nagging', 'brash', 'hostile', 'mean', 'harsh', 'sassy', 'aggressive', 'opinionated', 'domineering'],\n",
    "        'competent': ['competent', 'productive', 'effective', 'ambitious', 'active', 'decisive', 'strong', 'tough'], 'incompetent': ['incompetent', 'unproductive', 'ineffective', 'passive', 'indecisive', 'weak', 'gentle', 'timid'],\n",
    "        'likeable': ['agreeable', 'fair', 'honest', 'trustworthy', 'selfless', 'accommodating'],\n",
    "        'unlikeable': ['abrasive', 'conniving', 'manipulative', 'dishonest', 'selfish', 'pushy']}"
   ]
  },
  {
   "cell_type": "code",
   "execution_count": 6,
   "metadata": {},
   "outputs": [],
   "source": [
    "attributes = sets.copy()"
   ]
  },
  {
   "cell_type": "markdown",
   "metadata": {},
   "source": [
    "In order to establish a common base of identity terminology of groups used to debias the word embedding, an equality set of words is built. The choice for equality sets stems from the fact that hard debiasing requires equality sets to debias. With the use of the same equality set in each method, a more meaningful comparison can be made. \n",
    "\n",
    "The equality set was built by hand, with some notions taken from Manzini, Lim, Tsvetkov and Black (2019) equality sets."
   ]
  },
  {
   "cell_type": "code",
   "execution_count": 7,
   "metadata": {},
   "outputs": [],
   "source": [
    "sets['judaism_words'] = ['judaism', 'jew','jews','synagogue','synagogues', 'torah', 'rabbi', 'rabbis', \n",
    "                         'abraham', 'star', 'shabbat']\n",
    "sets['christianity_words'] = ['christianity','christian','christians','church','churches','bible','priest','priests',\n",
    "                             'jesus','cross','easter']\n",
    "sets['islam_words'] = ['islam','muslim','muslims','mosque','mosques','quran','imam','imams','muhammad',\n",
    "                        'hilal','ramadan']"
   ]
  },
  {
   "cell_type": "code",
   "execution_count": 8,
   "metadata": {},
   "outputs": [],
   "source": [
    "equality_sets = [\n",
    "        [\"judaism\", \"christianity\", \"islam\"],\n",
    "        [\"jew\", \"christian\", \"muslim\"],\n",
    "        [\"jews\", \"christians\", \"muslims\"],\n",
    "        [\"synagogue\", \"church\", \"mosque\"],\n",
    "        [\"synagogues\", \"churches\", \"mosques\"],\n",
    "        [\"torah\", \"bible\", \"quran\"],\n",
    "        [\"rabbi\", \"priest\", \"imam\"],\n",
    "        [\"rabbis\", \"priests\", \"imams\"],\n",
    "        [\"abraham\", \"jesus\", \"muhammad\"],\n",
    "        [\"star\", \"cross\", \"hilal\"],\n",
    "        [\"shabbat\", \"easter\", \"ramadan\"],\n",
    "    \n",
    "]"
   ]
  },
  {
   "cell_type": "markdown",
   "metadata": {},
   "source": [
    "# Bias Evaluations"
   ]
  },
  {
   "cell_type": "code",
   "execution_count": 9,
   "metadata": {},
   "outputs": [],
   "source": [
    "Results = {}"
   ]
  },
  {
   "cell_type": "code",
   "execution_count": 10,
   "metadata": {},
   "outputs": [],
   "source": [
    "def ttest_p(nonDB_target_eval, target_eval):\n",
    "    '''\n",
    "    nonDB_target_eval: first distribution\n",
    "    target_eval: second distribution\n",
    "    returns p value of a one taile dt test between the two distributions\n",
    "    '''\n",
    "    diff = []\n",
    "    #differences between non debias and this method\n",
    "    for i in range(len(target_eval)):\n",
    "        diff.append(target_eval[i]- nonDB_target_eval[i])    \n",
    "    diff = np.array(diff)\n",
    "    std = np.std(diff)\n",
    "    mean = np.mean(diff)\n",
    "    st_error = std/(np.sqrt(len(diff)))\n",
    "    test_stat = mean/st_error\n",
    "    p_val = stats.t.sf(np.absolute(test_stat),df=len(diff)-1)\n",
    "    print('test stat', test_stat)\n",
    "    print('p ', p_val )\n",
    "    return p_val"
   ]
  },
  {
   "cell_type": "markdown",
   "metadata": {},
   "source": [
    "## Relative Negative Sentiment Bias\n",
    "The first evaluation method will be the RNSB metric. It imitates the results, which would be given to a downstream application.\n",
    "The relative negative sentiment bias is an approach proposed by Sweeney and Najafan (2019) in order to offer insights on the effect of biased word embeddings through downstream applications. Its framework involves training a logistic classifier to predict the positive or negative sentiment of a given word. The classifier is trained on unbiased sentiment words, which are encoded via the word embedding to be investigated. Sweeney and Najafan then encode demographic identity terms and predict their respective negative sentiment probability. These results are used to form a probability distribution P. The Relative Negative Sentiment Bias (RNSB) is then defined \"as the KL\n",
    "divergence of P from U, where U is the uniform\n",
    "distribution\". \n",
    "\n",
    "The RNSB metric will be calculated for each debiasing method. To  intrepret this metric, Sweeney and Najafian state that \"Our RNSB metric captures the distance, via KL divergence, between the current distribution of negative sentiment and the fair uniform distribution. So the more fair a word embedding model with respect to sentiment bias, the lower the RNSB metric.\"\n",
    "\n",
    "*(Sweeney, C., & Najafian, M. (2019, July). A Transparent Framework for Evaluating Unintended Demographic Bias in Word Embeddings. In Proceedings of the 57th Annual Meeting of the Association for Computational Linguistics (p. 1664).)*"
   ]
  },
  {
   "cell_type": "code",
   "execution_count": 11,
   "metadata": {},
   "outputs": [],
   "source": [
    "def readInReview(reviewName):\n",
    "    firstReview = open(reviewName, \"r\")\n",
    "    review = firstReview.read()\n",
    "    #Each list element is a word or title\n",
    "    reviewList = re.split(r'\\n', review)\n",
    "    #remove introduction to dataset\n",
    "    count = 0\n",
    "    for x in reviewList:\n",
    "        if x.startswith(';'):\n",
    "            count +=1\n",
    "        else:\n",
    "            break\n",
    "    reviewList = reviewList[count:]\n",
    "    return reviewList"
   ]
  },
  {
   "cell_type": "code",
   "execution_count": 12,
   "metadata": {},
   "outputs": [],
   "source": [
    "def create_embeddings(model_Encoding,review):\n",
    "    embedding_matrix = []\n",
    "    for x in review:\n",
    "        if x in model:\n",
    "            embedding_matrix.append(model_Encoding(x))\n",
    "    embedding_matrix = np.array(embedding_matrix)\n",
    "    return embedding_matrix"
   ]
  },
  {
   "cell_type": "code",
   "execution_count": 13,
   "metadata": {},
   "outputs": [],
   "source": [
    "def calculateRNSB(results):\n",
    "    negProbResults = []\n",
    "    negProbSum = 0\n",
    "    for x in results:\n",
    "        negProbResults.append(x[0])\n",
    "        negProbSum += x[0]\n",
    "\n",
    "    normalizedResults = []\n",
    "    for i in range(len(results)): \n",
    "        normalizedResults.append(negProbResults[i]/negProbSum)\n",
    "        \n",
    "    #KL(P || Q) = sum x in X P(x) * log(P(x) / Q(x))\n",
    "    RNSB = 0\n",
    "    Q = 1/len(normalizedResults)\n",
    "    for x in normalizedResults:\n",
    "        RNSB += x * np.math.log((x / Q))\n",
    "    return RNSB"
   ]
  },
  {
   "cell_type": "code",
   "execution_count": 15,
   "metadata": {},
   "outputs": [],
   "source": [
    "def RNSB_Evaluation(model_Encoding,identity_words,p_val = True):\n",
    "    '''\n",
    "    model_encoding: methodcall to get a word embedding for a word\n",
    "    identity_words: equaluty sets to be tested\n",
    "    p_val: whether a one tailed t test on the distribution of the values should be performed\n",
    "    returns: RNSB score, p value and average RNSB scores for each equality set\n",
    "    \n",
    "    '''\n",
    "    warnings.filterwarnings(\"ignore\")\n",
    "    #Train logistic classifier on unbiased positive /negative sentiment words\n",
    "    reviewNeg = readInReview(\"opinion-lexicon-English\\\\negative-words.txt\")\n",
    "    neg = create_embeddings(model_Encoding,reviewNeg)\n",
    "    targetN = np.zeros(np.size(neg,0))\n",
    "    reviewPos = readInReview(\"opinion-lexicon-English\\\\positive-words.txt\")\n",
    "    pos = create_embeddings(model_Encoding,reviewPos)\n",
    "    targetP = np.ones(np.size(pos,0))\n",
    "    #print('length of neg targets', len(targetN))\n",
    "    #print('length of pos targets', len(targetP))\n",
    "    embed = np.concatenate((pos,neg))\n",
    "    target = np.concatenate((targetP,targetN))\n",
    "    #Train, (Validation) and Test set \n",
    "    rnsb_values = []\n",
    "    stats = np.zeros(len(identity_words))\n",
    "    for n in range (0, 20):\n",
    "        itrain, itest = train_test_split(range(embed.shape[0]), test_size=0.2)\n",
    "\n",
    "        X_train = embed[itrain, :]\n",
    "        X_test = embed[itest, :]\n",
    "        y_train = target[itrain]\n",
    "        y_test = target[itest]\n",
    "\n",
    "\n",
    "        logisticReg = LogisticRegression()\n",
    "        logisticReg.fit(X_train,y_train)\n",
    "        logpredy = logisticReg.predict(X_test)\n",
    "        #print(\"Accuracy:\",metrics.accuracy_score(y_test, logpredy))\n",
    "        #print(\"Recall:\", metrics.recall_score(y_test, logpredy))\n",
    "        #print(\"Precision:\", metrics.precision_score(y_test, logpredy))\n",
    "        #print(\"F1: \", metrics.f1_score(y_test, logpredy))\n",
    "        RNSB = []\n",
    "        for iset in identity_words: \n",
    "            identity_embed= []\n",
    "            for i in iset:\n",
    "                if not model_Encoding(i) == 'None':\n",
    "                    identity_embed.append(model_Encoding(i))\n",
    "            identity_pred = logisticReg.predict_proba(identity_embed)\n",
    "            temp = calculateRNSB(identity_pred)\n",
    "            RNSB.append(temp)\n",
    "            #print('RNSB ', temp, 'of ', iset )\n",
    "        RNSB = np.array(RNSB)\n",
    "        rnsb_values.append(np.mean(RNSB))\n",
    "        stats = np.add(stats,RNSB)\n",
    "    \n",
    "    stats = np.divide(stats,20)\n",
    "    if p_val:\n",
    "        _,RNSBnonDB_target_eval,_ = RNSB_Evaluation(encode_nondebias,equality_sets,p_val = False)\n",
    "        p_val = ttest_p(RNSBnonDB_target_eval, stats)\n",
    "    else:\n",
    "        p_val = 0\n",
    "    print(p_val)\n",
    "    score = mean(rnsb_values)\n",
    "    print('average over 20 ', score)\n",
    "    return score, stats, p_val\n"
   ]
  },
  {
   "cell_type": "markdown",
   "metadata": {},
   "source": [
    "## Mean Average Cosine Similarity (MAC)\n",
    "The second evalutation method is the Mean Average Cosine Similarity (MAC) as proposed by Manzini et al. The method originates from the notion of the WEAT test implemented below, but allows for quantification of multiclass bias.\n",
    "\n",
    "The approach uses Target sets T, which are identity terms for a protected group, and thus inherently carry some bias, and attribute sets A containing terms that should not be linked to the target sets above (pleasent, unpleasent. The MAC metric is acquired by calculating the mean over the cosine distances between each element in a particular set T to each element in a particular set A. This is repeated for each set T with respect to each set A. The MAC is then the average result over all sets.\n",
    "\n",
    "The cosine distance ranges from 0 to 2, 0 indicating that the vectors are the same and 2 indicating that the vectors have maximum cosine distance. Thus, to interpret the MAC metric, one should ideally expect a MAC value of close to 1. This would indicate that the target sets are as close to an attribute set, as they are distant from it.\n",
    "\n",
    "*(Manzini, T., Lim, Y. C., Tsvetkov, Y., & Black, A. W. (2019). Black is to criminal as caucasian is to police: Detecting and removing multiclass bias in word embeddings. arXiv preprint arXiv:1904.04047.)*"
   ]
  },
  {
   "cell_type": "code",
   "execution_count": 16,
   "metadata": {},
   "outputs": [],
   "source": [
    "def multiclass_evaluation(word_encoding, calculate_p_val = True):\n",
    "    '''\n",
    "    word_encoding : methodcall to get a word embedding for a word\n",
    "    calculate_p_val : whether a p value for the one tailed t test should be caluclated \n",
    "    returns MAC score, p value, individual MAC scores for each equality sets\n",
    "    '''\n",
    "    targets_eval = []\n",
    "    for targetSet in equality_sets:\n",
    "        for target in targetSet:\n",
    "            if word_encoding(target) != 'None':\n",
    "                for attributeSet in attributes:\n",
    "                    res = 0\n",
    "                    count = 0\n",
    "                    for a in attributeSet: \n",
    "                        if word_encoding(a)!= 'None':\n",
    "                            t_embed = word_encoding(target)\n",
    "                            a_embed = word_encoding(a)\n",
    "                            temp = cosine(t_embed,a_embed)\n",
    "                            res+= temp\n",
    "                            count += 1\n",
    "                            #print(f'{target} and {a} : {temp}')\n",
    "                            \n",
    "                    targets_eval.append((res/count))\n",
    "    if calculate_p_val: \n",
    "        _,_,nonDB_target_eval = multiclass_evaluation(encode_nondebias, False)\n",
    "        p_val = ttest_p(nonDB_target_eval,targets_eval)\n",
    "    else: \n",
    "        p_val = 0\n",
    "    m_score = np.mean(targets_eval)\n",
    "    return m_score, p_val, targets_eval"
   ]
  },
  {
   "cell_type": "markdown",
   "metadata": {},
   "source": [
    "## Word Evaluation Association Test (WEAT) Effect Size\n",
    "The WEAT also utilizes target and attribute sets as defined above. The WEAT considers two target and two attribute sets simultaeneously. It tests the association between one target and attribute set, relative to the association of the other target and attribute set. \"null hypothesis is that there is no difference between the two sets of target\n",
    "words in terms of their relative similarity to the two sets of attribute words\"\n",
    "\n",
    "\n",
    "To perform the WEAT test, the mean cosine similarity of an element in target set T1 to all elements in attribute set A2 is subtracted from the mean cosine similarity to all elements in attribute set A1. The sum of this is taken for all elements of T1. From this the sum for all elements in T2 is subtracted. This value is defined as the test statistic. \n",
    "\n",
    "To obtain the effect size, which is \"a normalized measure of how separated the two distributions (of associations between the target and attribute) are\" (Caliskan et al, 2017), the mean of the mean cosine similarity of each target of a target set T1 to each attribute set is taken. From this the mean of the mean cosine similarity of each target of a target set T2 to each attribute set is subtracted. To normalize this, this value is devided by the standard deviation over the mean cosine distance of each target in T1 and T2 to attribute set A1 minus that to attribute set A2. \n",
    "\n",
    "The loewer the effect size d is, i.e. the closer to zero, the less bias can be recorded between the target and attribute sets.\n",
    "\n",
    "\n",
    "*(Caliskan, A., Bryson, J. J., & Narayanan, A. (2017). Semantics derived automatically from language corpora contain human-like biases. Science, 356(6334), 183-186.)*"
   ]
  },
  {
   "cell_type": "code",
   "execution_count": 17,
   "metadata": {},
   "outputs": [],
   "source": [
    "religion ={('islam_words', 'judaism_words'): [('likeable', 'unlikeable'), ('competent', 'incompetent'), \n",
    "                                                 ('shy', 'aggressive'), ('intellectual_words', 'appearance_words'),\n",
    "                                                 ('family', 'career'), ('instruments', 'weapons'), \n",
    "                                                 ('pleasant', 'unpleasant'), ('science', 'art')], \n",
    "           \n",
    "              ('islam_words', 'christianity_words'): [('likeable', 'unlikeable'), ('competent', 'incompetent'),\n",
    "                                                      ('shy', 'aggressive'), ('intellectual_words', 'appearance_words'),\n",
    "                                                      ('family', 'career'), ('instruments', 'weapons'), \n",
    "                                                      ('pleasant', 'unpleasant'), ('science', 'art')], \n",
    "           \n",
    "              ('judaism_words', 'christianity_words'): [('likeable', 'unlikeable'), ('competent', 'incompetent'), \n",
    "                                                        ('shy', 'aggressive'), ('intellectual_words', 'appearance_words'),\n",
    "                                                        ('family', 'career'), ('instruments', 'weapons'), \n",
    "                                                        ('pleasant', 'unpleasant'), ('science', 'art')]\n",
    "          }"
   ]
  },
  {
   "cell_type": "code",
   "execution_count": 18,
   "metadata": {},
   "outputs": [],
   "source": [
    "def WEAT_Effect_size(x,y,a,b):\n",
    "\n",
    "        numerator = np.mean([h(w,a,b) for w in x]) - np.mean([h(w,a,b) for w in y])\n",
    "        denominator = np.std([h(w,a,b) for w in x + y])\n",
    "        return numerator/denominator"
   ]
  },
  {
   "cell_type": "code",
   "execution_count": 19,
   "metadata": {},
   "outputs": [],
   "source": [
    "def h(w,A,B):\n",
    "    meanA = np.mean([cosine(w,a) for a in A])\n",
    "    meanB = np.mean([cosine(w,b) for b in B])\n",
    "    return (meanA - meanB)"
   ]
  },
  {
   "cell_type": "code",
   "execution_count": 21,
   "metadata": {},
   "outputs": [],
   "source": [
    "def WEAT_Average_Effect_size(embedding_meth, biasToBeTested):\n",
    "    count = 0\n",
    "    d_values = []\n",
    "\n",
    "    for category_target_pair in biasToBeTested:\n",
    "        cat_0 = [embedding_meth(c) for c in sets[category_target_pair[0]]]\n",
    "        cat_1 = [embedding_meth(c) for c in sets[category_target_pair[1]]]\n",
    "        for attribute_pair in biasToBeTested[category_target_pair]:\n",
    "            att_0 = [embedding_meth(a) for a in sets[attribute_pair[0]]]\n",
    "            att_1 = [embedding_meth(a) for a in sets[attribute_pair[1]]]\n",
    "            d = WEAT_Effect_size(cat_0, cat_1, att_0, att_1)\n",
    "            d_values.append(np.abs(d))\n",
    "                \n",
    "    return np.mean(d_values)"
   ]
  },
  {
   "cell_type": "markdown",
   "metadata": {},
   "source": [
    "# Non-Debiased Word Embedding Evaluation\n",
    "\n",
    "This is the Conceptnet model prior to any debiasing. It should perform the worst.\n",
    "http://blog.conceptnet.io/posts/2019/conceptnet-numberbatch-19-08/"
   ]
  },
  {
   "cell_type": "code",
   "execution_count": 22,
   "metadata": {},
   "outputs": [],
   "source": [
    "def encode_nondebias(word):\n",
    "    if word in model:\n",
    "        return model[word]\n",
    "    return 'None'"
   ]
  },
  {
   "cell_type": "code",
   "execution_count": 23,
   "metadata": {},
   "outputs": [
    {
     "name": "stdout",
     "output_type": "stream",
     "text": [
      "0\n",
      "average over 20  0.022338587200976912\n"
     ]
    }
   ],
   "source": [
    "relBias,RNSBnonDB_target_eval,p = RNSB_Evaluation(encode_nondebias,equality_sets, False) "
   ]
  },
  {
   "cell_type": "code",
   "execution_count": 24,
   "metadata": {},
   "outputs": [
    {
     "name": "stdout",
     "output_type": "stream",
     "text": [
      "test stat nan\n",
      "p  nan\n"
     ]
    }
   ],
   "source": [
    "score,p2,t = multiclass_evaluation(encode_nondebias)"
   ]
  },
  {
   "cell_type": "code",
   "execution_count": 25,
   "metadata": {},
   "outputs": [],
   "source": [
    "weat = WEAT_Average_Effect_size(encode_nondebias, religion)"
   ]
  },
  {
   "cell_type": "code",
   "execution_count": 26,
   "metadata": {},
   "outputs": [],
   "source": [
    "Results['Nondebias'] = [relBias, p, score,p2, weat]"
   ]
  },
  {
   "cell_type": "markdown",
   "metadata": {},
   "source": [
    "## Debiasing via Concept Negator\n",
    "\n",
    "Conceptor Debiasing (Karve, Ungar and Sedoc (2019))"
   ]
  },
  {
   "cell_type": "code",
   "execution_count": 27,
   "metadata": {},
   "outputs": [],
   "source": [
    "def findNegatedConceptor(Z, aperture = 10):\n",
    "    '''\n",
    "    Find conceptor to debias with\n",
    "    '''\n",
    "    k = len(Z)\n",
    "    Z_Trans = Z.transpose()\n",
    "    C_1 = (1/k) * np.matmul(Z,Z_Trans)\n",
    "    temp = (aperture**(-2)) * np.identity(300)\n",
    "    C_2 = np.linalg.inv(np.add(C_1, temp))\n",
    "    C = np.matmul(C_1,C_2)\n",
    "    G = np.subtract(np.identity(300),C)\n",
    "    return G"
   ]
  },
  {
   "cell_type": "code",
   "execution_count": 28,
   "metadata": {},
   "outputs": [],
   "source": [
    "def encodeViaConceptorNegator(word):\n",
    "    if word in model:\n",
    "        word = model[word]\n",
    "        word = word / np.linalg.norm(word)\n",
    "        return np.matmul(negConceptor,word) \n",
    "    return 'None'"
   ]
  },
  {
   "cell_type": "code",
   "execution_count": 30,
   "metadata": {},
   "outputs": [],
   "source": [
    "#Target Words \n",
    "Z = sets['judaism_words']+sets['christianity_words']+sets['islam_words']\n",
    "Z = list(set(Z))\n",
    "Z_embed = []\n",
    "for z in Z:\n",
    "    if z in model:\n",
    "        Z_embed.append(model[z])\n",
    "Z_embed = np.array(Z_embed)\n",
    "Z_embed  = Z_embed.transpose()\n",
    "negConceptor = findNegatedConceptor(Z_embed)"
   ]
  },
  {
   "cell_type": "code",
   "execution_count": 31,
   "metadata": {},
   "outputs": [
    {
     "name": "stdout",
     "output_type": "stream",
     "text": [
      "0\n",
      "average over 20  0.02223597023922132\n",
      "test stat -2.1087088452750127\n",
      "p  0.03058744230543485\n",
      "0.03058744230543485\n",
      "average over 20  0.0077765203557548295\n"
     ]
    }
   ],
   "source": [
    "relBias,_,p = RNSB_Evaluation(encodeViaConceptorNegator,equality_sets)"
   ]
  },
  {
   "cell_type": "code",
   "execution_count": 32,
   "metadata": {},
   "outputs": [
    {
     "name": "stdout",
     "output_type": "stream",
     "text": [
      "test stat 2.7129199637036367\n",
      "p  0.003443719362742512\n"
     ]
    }
   ],
   "source": [
    "score,p2,t = multiclass_evaluation(encodeViaConceptorNegator)"
   ]
  },
  {
   "cell_type": "code",
   "execution_count": 33,
   "metadata": {},
   "outputs": [],
   "source": [
    "weat = WEAT_Average_Effect_size(encodeViaConceptorNegator, religion)"
   ]
  },
  {
   "cell_type": "code",
   "execution_count": 34,
   "metadata": {},
   "outputs": [],
   "source": [
    "Results['Conceptor_Debias'] = [relBias, p,score,p2 ,weat]"
   ]
  },
  {
   "cell_type": "markdown",
   "metadata": {},
   "source": [
    "## Debiasing via Hard Debiasing\n",
    "\n",
    "Debiasing via Hard Debiasing\n",
    "Hard Debiasing Manzini et al. (2019) Adapted from :https://github.com/TManzini/DebiasMulticlassWordEmbedding"
   ]
  },
  {
   "cell_type": "code",
   "execution_count": 35,
   "metadata": {},
   "outputs": [],
   "source": [
    "# Identify the Bias Subspace\n",
    "# Taken and adapted from Mazini et als implementation\n",
    "\n",
    "def identify_bias_subspace(def_sets, subspace_dim, embedding_dim):\n",
    "    \"\"\"\n",
    "    Similar to bolukbasi's implementation at\n",
    "    https://github.com/tolga-b/debiaswe/blob/master/debiaswe/debias.py\n",
    "    vocab - dictionary mapping words to embeddings\n",
    "    def_sets - sets of words that represent extremes? of the subspace\n",
    "            we're interested in (e.g. man-woman, boy-girl, etc. for binary gender)\n",
    "    subspace_dim - number of vectors defining the subspace\n",
    "    embedding_dim - dimensions of the word embeddings\n",
    "    \"\"\"\n",
    "    # calculate means of defining sets # calculate vectors to perform PCA\n",
    "    means = {} \n",
    "    matrix = []\n",
    "    for term_list in def_sets:\n",
    "        wSet = []\n",
    "        for w in term_list:\n",
    "            if w in model: \n",
    "                wSet.append(model[w])\n",
    "\n",
    "        set_vectors = np.array(wSet)\n",
    "        means = np.mean(set_vectors, axis=0)\n",
    "        diffs = set_vectors - means\n",
    "        matrix.append(diffs)\n",
    "\n",
    "    matrix = np.concatenate(matrix)\n",
    "\n",
    "    pca = PCA(n_components=subspace_dim)\n",
    "    pca.fit(matrix)\n",
    "\n",
    "    return pca.components_\n"
   ]
  },
  {
   "cell_type": "code",
   "execution_count": 36,
   "metadata": {},
   "outputs": [],
   "source": [
    "def project_onto_subspace(vector, subspace):\n",
    "    v_b = np.zeros_like(vector)\n",
    "    for component in subspace:\n",
    "        v_b += np.dot(vector.transpose(), component) * component\n",
    "    return v_b"
   ]
  },
  {
   "cell_type": "code",
   "execution_count": 37,
   "metadata": {},
   "outputs": [],
   "source": [
    "def encodeHardDebias(word): \n",
    "    # is the word in the model vocab\n",
    "    if word not in model: \n",
    "        return 'None'\n",
    "    wordEmbed = model[word]\n",
    "    \n",
    "    #if the word should contain bias, i.e. is found in following sets: \n",
    "    eq_sets = equality_sets\n",
    "    eq_set =[]\n",
    "    for i in eq_sets:\n",
    "        if word in i:\n",
    "            eq_set = i\n",
    "    # is the word in a set\n",
    "    if len(eq_set) != 0:\n",
    "        \n",
    "    #embed the set, and simultaeneuosly compute the mean\n",
    "        mean = np.zeros((300,))\n",
    "        cleanEqSet = []    \n",
    "        for w in eq_set:\n",
    "            if w in model and not w == word:\n",
    "                v = model[w]\n",
    "                v = v / np.linalg.norm(v)\n",
    "                mean += v\n",
    "                cleanEqSet.append(v)\n",
    "            elif w == word:\n",
    "                wordEmbed = wordEmbed/np.linalg.norm(wordEmbed)\n",
    "                mean += wordEmbed\n",
    "        mean /= float(len(cleanEqSet))\n",
    "        \n",
    "        #bias subspace component of the mean\n",
    "        mean_b = project_onto_subspace(mean, bias_subspace)\n",
    "        upsilon = mean - mean_b\n",
    "        v_b = project_onto_subspace(wordEmbed, bias_subspace)\n",
    "        frac = (v_b - mean_b) / np.linalg.norm(v_b - mean_b)\n",
    "        wordEmbed = upsilon + np.sqrt(1 - np.square(np.absolute(upsilon))) * frac\n",
    "        return wordEmbed\n",
    "    # if it should not contain any bias\n",
    "    v_b = project_onto_subspace(wordEmbed, bias_subspace)\n",
    "    wordEmbed = (wordEmbed - v_b) / np.linalg.norm(wordEmbed - v_b)\n",
    "\n",
    "    return wordEmbed"
   ]
  },
  {
   "cell_type": "code",
   "execution_count": 38,
   "metadata": {},
   "outputs": [],
   "source": [
    "#definite sets and equality sets\n",
    "bias_subspace = identify_bias_subspace(equality_sets, 1, 300 )\n",
    "#make bias subsapce 2d\n",
    "if bias_subspace.ndim == 1:\n",
    "    bias_subspace = np.expand_dims(bias_subspace, 0)\n",
    "elif bias_subspace.ndim != 2:\n",
    "    raise ValueError(\"bias subspace should be either a matrix or vector\")"
   ]
  },
  {
   "cell_type": "code",
   "execution_count": 39,
   "metadata": {},
   "outputs": [
    {
     "name": "stdout",
     "output_type": "stream",
     "text": [
      "0\n",
      "average over 20  0.02232367971646843\n",
      "test stat -2.2407341340713973\n",
      "p  0.024471621311983733\n",
      "0.024471621311983733\n",
      "average over 20  4.3134371900243536e-06\n"
     ]
    }
   ],
   "source": [
    "relBias,_,p = RNSB_Evaluation(encodeHardDebias,equality_sets)"
   ]
  },
  {
   "cell_type": "code",
   "execution_count": 40,
   "metadata": {},
   "outputs": [
    {
     "name": "stdout",
     "output_type": "stream",
     "text": [
      "test stat -1.6277679618852339\n",
      "p  0.05208588234222636\n"
     ]
    }
   ],
   "source": [
    "score,p2,t = multiclass_evaluation(encodeHardDebias)"
   ]
  },
  {
   "cell_type": "code",
   "execution_count": 41,
   "metadata": {},
   "outputs": [],
   "source": [
    "weat = WEAT_Average_Effect_size(encodeHardDebias, religion)"
   ]
  },
  {
   "cell_type": "code",
   "execution_count": 42,
   "metadata": {},
   "outputs": [],
   "source": [
    "Results['Hard_Debias'] = [relBias, p, score, p2, weat]"
   ]
  },
  {
   "cell_type": "markdown",
   "metadata": {},
   "source": [
    "# SoftWEAT\n",
    "\n",
    "Popovic et al. (2020) Adapted from: https://github.com/RadomirPopovicFON/Joint-Multiclass-Debiasing-of-Word-Embeddings/tree/9c15ba7299599ccee6170ac6ec0d25cde95a3778"
   ]
  },
  {
   "cell_type": "code",
   "execution_count": 43,
   "metadata": {},
   "outputs": [],
   "source": [
    "final_t = {}"
   ]
  },
  {
   "cell_type": "code",
   "execution_count": 44,
   "metadata": {},
   "outputs": [],
   "source": [
    "thresh = 0.5"
   ]
  },
  {
   "cell_type": "code",
   "execution_count": 45,
   "metadata": {},
   "outputs": [],
   "source": [
    "def WEAT(embedding_meth, biasToBeTested, threshold = thresh):\n",
    "    to_debias_dict = {'islam_words': [], 'christianity_words':[], 'judaism_words':[]}\n",
    "    d_values = []\n",
    "    for category_target_pair in biasToBeTested:\n",
    "        cat_0 = [embedding_meth(c) for c in sets[category_target_pair[0]]]\n",
    "        cat_1 = [embedding_meth(c) for c in sets[category_target_pair[1]]]\n",
    "        for attribute_pair in biasToBeTested[category_target_pair]:\n",
    "            att_0 = [embedding_meth(a) for a in sets[attribute_pair[0]]]\n",
    "            att_1 = [embedding_meth(a) for a in sets[attribute_pair[1]]]\n",
    "            d = WEAT_Effect_size(cat_0, cat_1, att_0, att_1)\n",
    "            print(f'{attribute_pair[0]} , {attribute_pair[1]}, {category_target_pair[0]}, {category_target_pair[1]} = {d}')\n",
    "            d_values.append(abs(d))\n",
    "            if np.abs(d) > threshold:\n",
    "                if d > 0:\n",
    "                    if attribute_pair[0] not in to_debias_dict[category_target_pair[0]]:\n",
    "                        to_debias_dict[category_target_pair[0]].append(attribute_pair[0])\n",
    "                    if attribute_pair[1] not in to_debias_dict[category_target_pair[1]]:\n",
    "                        to_debias_dict[category_target_pair[1]].append(attribute_pair[1])\n",
    "                else: \n",
    "                    if attribute_pair[1] not in to_debias_dict[category_target_pair[0]]:\n",
    "                        to_debias_dict[category_target_pair[0]].append(attribute_pair[1])\n",
    "                    if attribute_pair[0] not in to_debias_dict[category_target_pair[1]]:\n",
    "                        to_debias_dict[category_target_pair[1]].append(attribute_pair[0]) \n",
    "    return to_debias_dict, np.mean(d_values)"
   ]
  },
  {
   "cell_type": "code",
   "execution_count": 46,
   "metadata": {},
   "outputs": [],
   "source": [
    "#https://medium.com/analytics-vidhya/basics-of-using-pre-trained-glove-vectors-in-python-d38905f356db\n",
    "def find_closest_embeddings(embedding, n):\n",
    "    temp = sorted(model.keys(), key=lambda word: cosine(model[word], model[embedding]))\n",
    "    return temp[:n]"
   ]
  },
  {
   "cell_type": "code",
   "execution_count": 47,
   "metadata": {},
   "outputs": [],
   "source": [
    "def similarity(word, w):\n",
    "    return cosine(model[word], model[w])"
   ]
  },
  {
   "cell_type": "code",
   "execution_count": 48,
   "metadata": {},
   "outputs": [],
   "source": [
    "def addNeighbourWords(classes, n):\n",
    "    '''\n",
    "    classes: target sets for Christianity, Islam, Judaism \n",
    "    n: number of neighbours\n",
    "    returns n extra neighbours for each subclass\n",
    "    '''\n",
    "    ## Find neighbouring words\n",
    "    newWords = {}\n",
    "    for subclass in classes.keys(): \n",
    "        print('finding neighbouring words for ', subclass)\n",
    "        for word in classes[subclass]: \n",
    "            print('finding neighbouring words for ', word)\n",
    "            neighbours = find_closest_embeddings(word, n)\n",
    "            for neighbour in neighbours:\n",
    "                if neighbour not in newWords.keys():\n",
    "                    newWords[neighbour] = [subclass]\n",
    "                elif subclass not in newWords[neighbour]:\n",
    "                    newWords[neighbour].append(subclass)\n",
    "    print('Done finding words ....')\n",
    "    for word in list(newWords.keys()):\n",
    "        for subclasses in classes.keys():\n",
    "            if word in classes[subclasses]:\n",
    "                print(subclasses , ' ', word)\n",
    "                if word in newWords:\n",
    "                    del newWords[word]\n",
    "    for word, value in newWords.items():\n",
    "        if len(value) == 1:\n",
    "            classes[value[0]].append(word)\n",
    "        else: \n",
    "            print('duplicate : ', word, ' in ', value)\n",
    "            best = 0\n",
    "            bestClass = None\n",
    "            for v in value:\n",
    "                sum = 0\n",
    "                c = 0 \n",
    "                for w in classes[v]:\n",
    "                    c+=1\n",
    "                    sum += similarity(word,w)\n",
    "                mean = sum/c\n",
    "                if mean > best:\n",
    "                    best = mean\n",
    "                    bestClass = v\n",
    "            print('duplicate : ', word, ' in ', value, ' put in ', bestClass, ' with ', best)\n",
    "            classes[bestClass].append(word)\n",
    "    print('Neighbours')\n",
    "    for s in classes:\n",
    "        print(s, len(classes[s]))\n",
    "        print(classes[s])\n",
    "    return classes"
   ]
  },
  {
   "cell_type": "code",
   "execution_count": 49,
   "metadata": {},
   "outputs": [],
   "source": [
    "def embeddingsoftWEAT(word, classes, T = final_t):\n",
    "    if word not in model: \n",
    "        return 'None'\n",
    "    for sc in classes.keys():\n",
    "        if word in classes[sc] and T[sc] != []:\n",
    "            t = T[sc]\n",
    "            word = np.array(model[word])\n",
    "            word = np.append(word, 1)\n",
    "            v =  np.dot(t, word)[0:-1]\n",
    "            return v / np.linalg.norm(v)\n",
    "    return model[word]"
   ]
  },
  {
   "cell_type": "code",
   "execution_count": 50,
   "metadata": {},
   "outputs": [],
   "source": [
    "def WEATtest(embedding_meth, T, classes, biasToBeTested, threshold = thresh):\n",
    "    d_values = []\n",
    "    for category_target_pair in biasToBeTested:\n",
    "        cat_0 = [embedding_meth(c,classes,T) for c in sets[category_target_pair[0]]]\n",
    "        cat_1 = [embedding_meth(c,classes,T) for c in sets[category_target_pair[1]]]\n",
    "        for attribute_pair in biasToBeTested[category_target_pair]:\n",
    "            att_0 = [embedding_meth(a,classes,T) for a in sets[attribute_pair[0]]]\n",
    "            att_1 = [embedding_meth(a,classes,T) for a in sets[attribute_pair[1]]]\n",
    "            d = WEAT_Effect_size(cat_0, cat_1, att_0, att_1)\n",
    "            d_values.append(abs(d))\n",
    " \n",
    "    return np.mean(d_values)"
   ]
  },
  {
   "cell_type": "code",
   "execution_count": 51,
   "metadata": {},
   "outputs": [],
   "source": [
    "def getT(debias_dict, all_attribute_words, classes, l):\n",
    "    t = {'islam_words': [], 'christianity_words':[], 'judaism_words':[]}\n",
    "    final_t = {}\n",
    "    for s in debias_dict.keys():\n",
    "        biasedAttr = debias_dict[s]\n",
    "        print(biasedAttr, type(biasedAttr))\n",
    "        targetWords = classes[s] \n",
    "        for w in all_attribute_words:\n",
    "            if w in targetWords:\n",
    "                targetWords.remove(w)\n",
    "        targetWords = [model[w] for w in targetWords if w in model]\n",
    "        meanTargetWord = np.mean(targetWords, axis = 0)\n",
    "        meanAttSets = []\n",
    "        for attset in biasedAttr:\n",
    "            tempSet = [model[w] for w in sets[attset]]\n",
    "            meanAttSets.append(np.mean(tempSet, axis = 0))\n",
    "        meanMatrix = np.array(meanAttSets)\n",
    "        null_space_vectors = ns(meanMatrix)\n",
    "        temp = 100\n",
    "        d_vals = []\n",
    "        best = 1\n",
    "        bestMat = None\n",
    "        for n in range(temp):\n",
    "            T = null_space_vectors[:,n] - meanTargetWord\n",
    "            TI = np.identity(len(T)+1)\n",
    "            for t_i, value in enumerate(T):\n",
    "                TI[t_i, -1] = value * l \n",
    "            t[s] = TI\n",
    "            d = WEATtest(embeddingsoftWEAT,t,classes, religion)\n",
    "            #print('effect size d = ',d) \n",
    "            if d < best: \n",
    "                best = d\n",
    "                bestMat = TI\n",
    "            d_vals.append(d)\n",
    "        final_t[s] = TI\n",
    "    return final_t"
   ]
  },
  {
   "cell_type": "code",
   "execution_count": 52,
   "metadata": {},
   "outputs": [],
   "source": [
    "def softWEAT(lamda):\n",
    "    #get attribute sets to debias to\n",
    "    debias_dict,_ = WEAT(encode_nondebias,religion)\n",
    "    print(debias_dict)\n",
    "    \n",
    "    #establish target words and neighbours to debias\n",
    "    classes = {}\n",
    "    classes['islam_words'] = sets['islam_words'].copy()\n",
    "    classes['christianity_words'] = sets['christianity_words'].copy()\n",
    "    classes['judaism_words'] = sets['judaism_words'].copy()\n",
    "    classes = addNeighbourWords(classes, 10)\n",
    "    for s in classes:\n",
    "        print(s, len(classes[s]))\n",
    "        \n",
    "    #list all words in each attribute set\n",
    "    all_attribute_words = []\n",
    "    for s in sets.keys():\n",
    "        if s != 'christianity_words' and s!= 'islam_words' and s!= 'judaism_words':\n",
    "            all_attribute_words.extend(sets[s])\n",
    "    print('All Attribute Words', all_attribute_words)\n",
    "    \n",
    "    final_t = {}\n",
    "    final_t = getT(debias_dict, all_attribute_words, classes,lamda)\n",
    "    return final_t, classes"
   ]
  },
  {
   "cell_type": "code",
   "execution_count": 53,
   "metadata": {},
   "outputs": [
    {
     "name": "stdout",
     "output_type": "stream",
     "text": [
      "likeable , unlikeable, islam_words, judaism_words = -0.9856263440964548\n",
      "competent , incompetent, islam_words, judaism_words = 1.3035998096564017\n",
      "shy , aggressive, islam_words, judaism_words = 0.6048398303482232\n",
      "intellectual_words , appearance_words, islam_words, judaism_words = 1.5246392743216168\n",
      "family , career, islam_words, judaism_words = 0.3561610325250264\n",
      "instruments , weapons, islam_words, judaism_words = 1.4271367595721247\n",
      "pleasant , unpleasant, islam_words, judaism_words = 0.1517951817140258\n",
      "science , art, islam_words, judaism_words = 0.3995852310902504\n",
      "likeable , unlikeable, islam_words, christianity_words = -0.5336664478564374\n",
      "competent , incompetent, islam_words, christianity_words = 1.421793005092937\n",
      "shy , aggressive, islam_words, christianity_words = 0.27497027985875794\n",
      "intellectual_words , appearance_words, islam_words, christianity_words = 0.9278409544133168\n",
      "family , career, islam_words, christianity_words = 0.2807237113609414\n",
      "instruments , weapons, islam_words, christianity_words = 0.8865447195837157\n",
      "pleasant , unpleasant, islam_words, christianity_words = 1.1161543279577129\n",
      "science , art, islam_words, christianity_words = -1.0291393997256024\n",
      "likeable , unlikeable, judaism_words, christianity_words = 0.7802469191898286\n",
      "competent , incompetent, judaism_words, christianity_words = -0.05579627995099751\n",
      "shy , aggressive, judaism_words, christianity_words = -0.3827581203815536\n",
      "intellectual_words , appearance_words, judaism_words, christianity_words = -0.8927912230446627\n",
      "family , career, judaism_words, christianity_words = -0.11420487779295094\n",
      "instruments , weapons, judaism_words, christianity_words = -0.6833329917521336\n",
      "pleasant , unpleasant, judaism_words, christianity_words = 1.1318690215815128\n",
      "science , art, judaism_words, christianity_words = -1.14622268392707\n",
      "{'islam_words': ['unlikeable', 'competent', 'shy', 'intellectual_words', 'instruments', 'pleasant', 'art'], 'christianity_words': ['likeable', 'incompetent', 'appearance_words', 'weapons', 'unpleasant', 'science', 'unlikeable', 'intellectual_words', 'instruments'], 'judaism_words': ['likeable', 'incompetent', 'aggressive', 'appearance_words', 'weapons', 'pleasant', 'art']}\n",
      "finding neighbouring words for  islam_words\n",
      "finding neighbouring words for  islam\n",
      "finding neighbouring words for  muslim\n",
      "finding neighbouring words for  muslims\n",
      "finding neighbouring words for  mosque\n",
      "finding neighbouring words for  mosques\n",
      "finding neighbouring words for  quran\n",
      "finding neighbouring words for  imam\n",
      "finding neighbouring words for  imams\n",
      "finding neighbouring words for  muhammad\n",
      "finding neighbouring words for  hilal\n",
      "finding neighbouring words for  ramadan\n",
      "finding neighbouring words for  christianity_words\n",
      "finding neighbouring words for  christianity\n",
      "finding neighbouring words for  christian\n",
      "finding neighbouring words for  christians\n",
      "finding neighbouring words for  church\n",
      "finding neighbouring words for  churches\n",
      "finding neighbouring words for  bible\n",
      "finding neighbouring words for  priest\n",
      "finding neighbouring words for  priests\n",
      "finding neighbouring words for  jesus\n",
      "finding neighbouring words for  cross\n",
      "finding neighbouring words for  easter\n",
      "finding neighbouring words for  judaism_words\n",
      "finding neighbouring words for  judaism\n",
      "finding neighbouring words for  jew\n",
      "finding neighbouring words for  jews\n",
      "finding neighbouring words for  synagogue\n",
      "finding neighbouring words for  synagogues\n",
      "finding neighbouring words for  torah\n",
      "finding neighbouring words for  rabbi\n",
      "finding neighbouring words for  rabbis\n",
      "finding neighbouring words for  abraham\n",
      "finding neighbouring words for  star\n",
      "finding neighbouring words for  shabbat\n",
      "Done finding words ....\n",
      "islam_words   islam\n",
      "islam_words   muslim\n",
      "islam_words   muslims\n",
      "islam_words   mosque\n",
      "islam_words   mosques\n",
      "islam_words   quran\n",
      "islam_words   imam\n",
      "islam_words   imams\n",
      "islam_words   muhammad\n",
      "islam_words   hilal\n",
      "islam_words   ramadan\n",
      "christianity_words   christianity\n",
      "christianity_words   christian\n",
      "christianity_words   christians\n",
      "christianity_words   church\n",
      "christianity_words   churches\n",
      "christianity_words   bible\n",
      "christianity_words   priest\n",
      "christianity_words   priests\n",
      "christianity_words   jesus\n",
      "christianity_words   cross\n",
      "christianity_words   easter\n",
      "judaism_words   judaism\n",
      "judaism_words   jew\n",
      "judaism_words   jews\n",
      "judaism_words   synagogue\n",
      "judaism_words   synagogues\n",
      "judaism_words   torah\n",
      "judaism_words   rabbi\n",
      "judaism_words   rabbis\n",
      "judaism_words   abraham\n",
      "judaism_words   star\n",
      "judaism_words   shabbat\n",
      "Neighbours\n",
      "islam_words 91\n",
      "['islam', 'muslim', 'muslims', 'mosque', 'mosques', 'quran', 'imam', 'imams', 'muhammad', 'hilal', 'ramadan', 'islamness', 'night_of_power', 'murjite', 'muslimism', 'aga_khanite', 'muhammadanism', 'bakriyyah', 'moslemism', 'islamology', 'cyber_muslim', 'muslimite', 'muslimless', 'philo_muslim', 'post_muslim', 'promuslim', 'muslimdom', 'muslimship', 'muslimhood', 'muslimo', 'semi_muslim', 'un_muslim', 'muslimist', 'pre_muslim', 'muslimness', 'muslimville', 'mosqued', 'antimosque', 'mosque_goer', 'masjid', 'supermosque', 'mosque_going', 'megamosque', 'mosqueing', 'victory_mosque', 'quranize', 'quranite', 'quranist', 'quranologist', 'koranite', 'qur', 'koranize', 'ahle_quran', 'koran', 'imaum', 'i_have', 'imamate', 'dikka', 'iman', 'kutub_al_sittah', 'muslim_person', 'mullah', 'sheikhs', 'ulema', 'sahih_muslim', 'elijah_muhammad', 'seal_of_prophets', 'muhammadism', 'manticratic', 'muhammadian', 'mohammad', 'mohammed', 'mahomet', 'muhammadist', 'hijri', 'rabi_al_awwal', 'rabi_al_thani', 'islamic_month', 'jumada_al_awwal', 'sha_ban', 'islamic_calendar_month', 'islamic_calendar', 'dhu_l_hijja', 'laylat_al_qadr', 'islamic_holy_day', 'eid_al_fitr', 'laylatul_qadr', 'sugar_feast', 'eid_al_saghir', 'feast_of_fasting', 'lesser_eid']\n",
      "christianity_words 89\n",
      "['christianity', 'christian', 'christians', 'church', 'churches', 'bible', 'priest', 'priests', 'jesus', 'cross', 'easter', 'unchristianize', 'apocalyptic_number', 'komboskini', 'lampadarios', 'apocatastatic', 'apostolic_age', 'christianities', 'adoptianist', 'antiprotestant', 'christianess', 'christianish', 'paleochristian', 'christiany', 'christianlike', 'dechristianization', 'even_christian', 'unitarian_universalists', 'dechristianize', 'christophobe', 'christianophobe', 'church_militant', 'christlessness', 'antichurch', 'word_of_faith', 'churchful', 'churchship', 'dischurch', \"god's_house\", 'kingdom_hall', 'church_central_passage', 'worship_house', 'antiecclesiastical', 'christian_bible', 'holy_writ', 'extrabiblical', 'bibles', 'biblist', 'good_book', 'prayer_of_manasseh', 'counterbiblical', 'in_saecula_saeculorum', 'orthodox_priest', 'priesting', 'priestery', 'underpriest', 'unpriest', 'priestlike', 'confess_sins', 'domestic_prelate', 'priestliness', 'antisacerdotal', 'good_man', 'good_teacher', 'yeshua', 'jesuses', 'jesusanity', 'jesuslike', 'prince_of_peace', 'jesus_of_nazareth', 'christ', 'calvary_cross', 'papal_cross', 'crucigerous', 'lorraine_cross', 'crosseth', 'crosst', 'jerusalem_cross', 'crosslike', 'crosses', 'happy_easter', 'eastertime', 'cheaster', 'colored_eggs', 'pascha', 'easter_day', 'pasch', 'rogation_sunday', 'movable_feast']\n",
      "judaism_words 88\n",
      "['judaism', 'jew', 'jews', 'synagogue', 'synagogues', 'torah', 'rabbi', 'rabbis', 'abraham', 'star', 'shabbat', 'fast_of_esther', 'fast_of_firstborn', 'fast_of_gedaliah', 'fast_of_tammuz', 'fast_of_tevet', 'reform_judaism', 'conservative_judaism', 'balabos', 'high_holidays', 'ex_jew', 'jewless', 'judeophilic', 'pro_jew', 'yahudi', 'judeophobic', 'philo_semitic', 'jewishy', 'jewish', 'isreal', 'philo_semitism', 'synagogical', 'synagogal', 'synagog', 'jewish_people', 'synagogue_goer', 'synagogue_going', 'synagoguegoer', 'shul', 'gabbai', 'cybersynagogue', 'beth_hamidrash', 'pentateuchal', 'leyn', 'nevi_im', 'tikkun_leil_shavuot', 'hebrew_scriptures', 'pentateuch', 'setumah', 'tanach', 'rav', 'amora', 'carlebachian', 'rebbetzin', 'rebbe', 'rebbetzman', 'rabbinate', 'rabbinic', 'rabbinical', 'rabbinically', 'kolpik', 'abrahamical', 'abrahams', 'abram', 'gaybraham', 'abrahamize', 'abrahamitic', 'abie', 'ibrahim', 'abrahamist', 'nonstar', 'blue_hook_star', 'late_type_star', 'epsilon_aurigae', 'early_type_star', 'optical_double', 'starward', 'astriferous', 'blue_giant_star', 'shabbos', 'sabbatise', 'shabbos_goy', 'sabbatize', 'sabbath', 'sabbathless', 'sabbathly', 'sabbatharian', 'havdalah']\n",
      "islam_words 91\n",
      "christianity_words 89\n",
      "judaism_words 88\n",
      "All Attribute Words ['caress', 'freedom', 'health', 'love', 'peace', 'cheer', 'friend', 'heaven', 'loyal', 'pleasure', 'diamond', 'gentle', 'honest', 'lucky', 'rainbow', 'diploma', 'gift', 'honor', 'miracle', 'sunrise', 'family', 'happy', 'laughter', 'paradise', 'vacation', 'joy', 'wonderful', 'abuse', 'crash', 'filth', 'murder', 'sickness', 'accident', 'death', 'grief', 'poison', 'stink', 'assault', 'disaster', 'hatred', 'pollute', 'tragedy', 'divorce', 'jail', 'poverty', 'ugly', 'cancer', 'kill', 'rotten', 'vomit', 'agony', 'prison', 'terrible', 'horrible', 'bagpipe', 'cello', 'guitar', 'lute', 'trombone', 'banjo', 'clarinet', 'harmonica', 'mandolin', 'trumpet', 'bassoon', 'drum', 'harp', 'oboe', 'tuba', 'bell', 'fiddle', 'harpsichord', 'piano', 'viola', 'bongo', 'flute', 'horn', 'saxophone', 'arrow', 'club', 'gun', 'missile', 'spear', 'dagger', 'harpoon', 'pistol', 'sword', 'blade', 'dynamite', 'hatchet', 'rifle', 'tank', 'bomb', 'firearm', 'knife', 'shotgun', 'teargas', 'cannon', 'grenade', 'mace', 'slingshot', 'whip', 'executive', 'management', 'professional', 'corporation', 'salary', 'office', 'business', 'career', 'home', 'parents', 'children', 'family', 'cousins', 'marriage', 'wedding', 'relatives', 'science', 'technology', 'physics', 'chemistry', 'einstein', 'nasa', 'experiment', 'astronomy', 'poetry', 'art', 'dance', 'literature', 'novel', 'symphony', 'drama', 'sculpture', 'resourceful', 'inquisitive', 'sagacious', 'inventive', 'adaptable', 'intuitive', 'analytical', 'imaginative', 'shrewd', 'thoughtful', 'smart', 'clever', 'brilliant', 'logical', 'intelligent', 'apt', 'genius', 'wise', 'stupid', 'dumb', 'dull', 'clumsy', 'foolish', 'naive', 'unintelligent', 'alluring', 'voluptuous', 'blushing', 'homely', 'plump', 'sensual', 'gorgeous', 'slim', 'bald', 'athletic', 'fashionable', 'stout', 'ugly', 'muscular', 'slender', 'feeble', 'handsome', 'healthy', 'attractive', 'fat', 'weak', 'thin', 'pretty', 'beautiful', 'strong', 'soft', 'quiet', 'compromising', 'rational', 'calm', 'kind', 'agreeable', 'servile', 'pleasant', 'cautious', 'friendly', 'supportive', 'nice', 'mild', 'demure', 'passive', 'indifferent', 'shrill', 'loud', 'argumentative', 'irrational', 'angry', 'abusive', 'obnoxious', 'controlling', 'nagging', 'brash', 'hostile', 'mean', 'harsh', 'sassy', 'aggressive', 'opinionated', 'domineering', 'competent', 'productive', 'effective', 'ambitious', 'active', 'decisive', 'strong', 'tough', 'incompetent', 'unproductive', 'ineffective', 'passive', 'indecisive', 'weak', 'gentle', 'timid', 'agreeable', 'fair', 'honest', 'trustworthy', 'selfless', 'accommodating', 'abrasive', 'conniving', 'manipulative', 'dishonest', 'selfish', 'pushy']\n",
      "['unlikeable', 'competent', 'shy', 'intellectual_words', 'instruments', 'pleasant', 'art'] <class 'list'>\n"
     ]
    },
    {
     "name": "stdout",
     "output_type": "stream",
     "text": [
      "['likeable', 'incompetent', 'appearance_words', 'weapons', 'unpleasant', 'science', 'unlikeable', 'intellectual_words', 'instruments'] <class 'list'>\n",
      "['likeable', 'incompetent', 'aggressive', 'appearance_words', 'weapons', 'pleasant', 'art'] <class 'list'>\n"
     ]
    }
   ],
   "source": [
    "thresh = 0.5\n",
    "final_t, classes = softWEAT(lamda= 0.5)"
   ]
  },
  {
   "cell_type": "code",
   "execution_count": 54,
   "metadata": {},
   "outputs": [],
   "source": [
    "def embeddingsoftWEATEval(word):\n",
    "    T = final_t\n",
    "    if word not in model: \n",
    "        return 'None'\n",
    "    for sc in classes.keys():\n",
    "        if word in classes[sc]:\n",
    "            if T[sc] != []:\n",
    "                t = T[sc]\n",
    "                word = np.array(model[word])\n",
    "                word = np.append(word, 1)\n",
    "                v =  np.dot(t, word)[0:-1]\n",
    "                return v / np.linalg.norm(v)\n",
    "    v = model[word]\n",
    "    return v / np.linalg.norm(v)"
   ]
  },
  {
   "cell_type": "code",
   "execution_count": 55,
   "metadata": {},
   "outputs": [
    {
     "name": "stdout",
     "output_type": "stream",
     "text": [
      "0\n",
      "average over 20  0.023061897370802456\n",
      "test stat -1.7036920753719718\n",
      "p  0.05963003348674883\n",
      "0.05963003348674883\n",
      "average over 20  0.018435919137171325\n",
      "test stat 33.173205066853114\n",
      "p  1.9426450067693869e-131\n"
     ]
    }
   ],
   "source": [
    "relBias,_,p  = RNSB_Evaluation(embeddingsoftWEATEval,equality_sets)\n",
    "score,p2,t = multiclass_evaluation(embeddingsoftWEATEval)\n",
    "weat = WEAT_Average_Effect_size(embeddingsoftWEATEval, religion)\n",
    "Results['softWEAT_Debias'] = [relBias,p, score, p2,weat]"
   ]
  },
  {
   "cell_type": "markdown",
   "metadata": {},
   "source": [
    "# Result Visualizations"
   ]
  },
  {
   "cell_type": "code",
   "execution_count": 57,
   "metadata": {},
   "outputs": [
    {
     "name": "stdout",
     "output_type": "stream",
     "text": [
      "Nondebias\n",
      "RNSB Score: 0.02234 with a p value of  0;\n",
      "MAC Score: 0.99519; with a p value of nan\n",
      "WEAT Score: 0.76714 \n",
      "Conceptor_Debias\n",
      "RNSB Score: 0.00778 with a p value of  0.03059;\n",
      "MAC Score: 0.99695; with a p value of 0.00344\n",
      "WEAT Score: 0.30251 \n",
      "Hard_Debias\n",
      "RNSB Score: 0.0 with a p value of  0.02447;\n",
      "MAC Score: 0.99376; with a p value of 0.05209\n",
      "WEAT Score: 0.00441 \n",
      "softWEAT_Debias\n",
      "RNSB Score: 0.01844 with a p value of  0.05963;\n",
      "MAC Score: 1.01367; with a p value of 0.0\n",
      "WEAT Score: 0.83589 \n"
     ]
    }
   ],
   "source": [
    "for key, value in Results.items():\n",
    "    print(key)\n",
    "    print(f'RNSB Score: {round(value[0],5)} with a p value of  {round(value[1],5)};')\n",
    "    print(f'MAC Score: {round(value[2],5)}; with a p value of {round(value[3],5)}')      \n",
    "    print(f'WEAT Score: {round(value[4],5)} ')"
   ]
  },
  {
   "cell_type": "code",
   "execution_count": 58,
   "metadata": {},
   "outputs": [
    {
     "name": "stdout",
     "output_type": "stream",
     "text": [
      " Nondebias : 0.022338587200976912\n",
      " Conceptor_Debias : 0.0077765203557548295\n",
      " Hard_Debias : 4.3134371900243536e-06\n",
      " softWEAT_Debias : 0.018435919137171325\n"
     ]
    },
    {
     "data": {
      "image/png": "[encoded data removed]",
      "text/plain": [
       "<Figure size 1440x216 with 1 Axes>"
      ]
     },
     "metadata": {
      "needs_background": "light"
     },
     "output_type": "display_data"
    }
   ],
   "source": [
    "RNSB = [d[0] for d in Results.values()]\n",
    "for key, value in Results.items():\n",
    "    print(f' {key} : {value[0]}')\n",
    "plt.figure(figsize=(20, 3))\n",
    "plt.title('RNSB on Judaism, Christianity, Islam')\n",
    "plt.bar(Results.keys(), RNSB)\n",
    "plt.show()\n"
   ]
  },
  {
   "cell_type": "code",
   "execution_count": 59,
   "metadata": {},
   "outputs": [
    {
     "name": "stdout",
     "output_type": "stream",
     "text": [
      " Nondebias : 0\n",
      " Conceptor_Debias : 0.03058744230543485\n",
      " Hard_Debias : 0.024471621311983733\n",
      " softWEAT_Debias : 0.05963003348674883\n"
     ]
    },
    {
     "data": {
      "image/png": "[encoded data removed]",
      "text/plain": [
       "<Figure size 1440x216 with 1 Axes>"
      ]
     },
     "metadata": {
      "needs_background": "light"
     },
     "output_type": "display_data"
    }
   ],
   "source": [
    "MAC = [d[2] for d in Results.values()]\n",
    "for key, value in Results.items():\n",
    "    print(f' {key} : {value[1]}')\n",
    "plt.figure(figsize=(20, 3))\n",
    "plt.title('Mean Average Cosine Similarity')\n",
    "plt.bar(Results.keys(), MAC)\n",
    "plt.show()\n"
   ]
  },
  {
   "cell_type": "code",
   "execution_count": 60,
   "metadata": {},
   "outputs": [
    {
     "name": "stdout",
     "output_type": "stream",
     "text": [
      " Nondebias : 0.9951864821818667\n",
      " Conceptor_Debias : 0.9969530022943499\n",
      " Hard_Debias : 0.993761308398741\n",
      " softWEAT_Debias : 1.0136715176252593\n"
     ]
    },
    {
     "data": {
      "image/png": "[encoded data removed]",
      "text/plain": [
       "<Figure size 1440x216 with 1 Axes>"
      ]
     },
     "metadata": {
      "needs_background": "light"
     },
     "output_type": "display_data"
    }
   ],
   "source": [
    "WEATD = [d[4] for d in Results.values()]\n",
    "for key, value in Results.items():\n",
    "    print(f' {key} : {value[2]}')\n",
    "plt.figure(figsize=(20, 3))\n",
    "plt.title('WEAT Effect size')\n",
    "plt.bar(Results.keys(), WEATD)\n",
    "plt.show()\n"
   ]
  },
  {
   "cell_type": "code",
   "execution_count": null,
   "metadata": {},
   "outputs": [],
   "source": []
  }
 ],
 "metadata": {
  "kernelspec": {
   "display_name": "PyCharm (Thesis Code)",
   "language": "python",
   "name": "pycharm-8c054aba"
  },
  "language_info": {
   "codemirror_mode": {
    "name": "ipython",
    "version": 3
   },
   "file_extension": ".py",
   "mimetype": "text/x-python",
   "name": "python",
   "nbconvert_exporter": "python",
   "pygments_lexer": "ipython3",
   "version": "3.7.6"
  }
 },
 "nbformat": 4,
 "nbformat_minor": 2
}
